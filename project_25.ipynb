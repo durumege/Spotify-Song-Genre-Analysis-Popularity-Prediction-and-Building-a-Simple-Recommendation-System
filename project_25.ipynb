{
  "nbformat": 4,
  "nbformat_minor": 0,
  "metadata": {
    "colab": {
      "provenance": [],
      "toc_visible": true,
      "include_colab_link": true
    },
    "kernelspec": {
      "name": "python3",
      "display_name": "Python 3"
    }
  },
  "cells": [
    {
      "cell_type": "markdown",
      "metadata": {
        "id": "view-in-github",
        "colab_type": "text"
      },
      "source": [
        "<a href=\"https://colab.research.google.com/github/durumege/Spotify-Song-Genre-Analysis-Popularity-Prediction-and-Building-a-Simple-Recommendation-System/blob/main/project_25.ipynb\" target=\"_parent\"><img src=\"https://colab.research.google.com/assets/colab-badge.svg\" alt=\"Open In Colab\"/></a>"
      ]
    },
    {
      "cell_type": "markdown",
      "metadata": {
        "id": "tPdlcstH11mU"
      },
      "source": [
        "# Spotify Song & Genre Analysis, Popularity Prediction and Building a Simple Recommendation System - Group ID: 25\n",
        "\n",
        "**Group Members:**\n",
        "\n",
        "Ege DURUM\n",
        "\n",
        "Osman Emre BİLEN\n",
        "\n",
        "Ali Erinç AYAZ\n",
        "\n",
        " \n"
      ]
    },
    {
      "cell_type": "markdown",
      "metadata": {
        "id": "B1iB4MSX3-6L"
      },
      "source": [
        "## Introduction\n",
        "\n",
        "<font color=\"black\">\n",
        "\n",
        "**Briefly discuss the background and the rationale of the project.**\n",
        "\n",
        "We are gonna visualize descriptive statistics of the dataset. \n",
        "\n",
        "We will group the dataset based on genres; pop, rock, and their distributions of features such as popularity, tempo, and acousticness. \n",
        "\n",
        "We are gonna analyse most popular artists and songs.\n",
        "\n",
        "We analyze how techno (90s vs 10s) and r&b (40-70 vs 00-21) changed over time."
      ]
    },
    {
      "cell_type": "markdown",
      "metadata": {
        "id": "ict00io34o_x"
      },
      "source": [
        "## Exploratory Data Analysis\n",
        "\n",
        "</font>\n",
        "\n",
        "```\n",
        "- Visualizations Descriptive Statistics\n",
        "- Visualizations of Aggregated Forms Based on Features\n",
        "- Analysis of the Most Popular Artists and Songs\n",
        "- How Songs of Different Genres Change Over Time\n",
        "```\n"
      ]
    },
    {
      "cell_type": "markdown",
      "metadata": {
        "id": "1_lOJfEuaSH9"
      },
      "source": [
        "## Visualizations Descriptive Statistics"
      ]
    },
    {
      "cell_type": "code",
      "metadata": {
        "colab": {
          "base_uri": "https://localhost:8080/"
        },
        "id": "WsVrWb2MGTJ7",
        "outputId": "f0f04597-af2e-484c-a1bb-05640558bd1f"
      },
      "source": [
        "!pip install reverse_geocoder\n",
        "!pip install geopy"
      ],
      "execution_count": null,
      "outputs": [
        {
          "output_type": "stream",
          "text": [
            "Collecting reverse_geocoder\n",
            "\u001b[?25l  Downloading https://files.pythonhosted.org/packages/0b/0f/b7d5d4b36553731f11983e19e1813a1059ad0732c5162c01b3220c927d31/reverse_geocoder-1.5.1.tar.gz (2.2MB)\n",
            "\u001b[K     |████████████████████████████████| 2.3MB 5.5MB/s \n",
            "\u001b[?25hRequirement already satisfied: numpy>=1.11.0 in /usr/local/lib/python3.7/dist-packages (from reverse_geocoder) (1.19.5)\n",
            "Requirement already satisfied: scipy>=0.17.1 in /usr/local/lib/python3.7/dist-packages (from reverse_geocoder) (1.4.1)\n",
            "Building wheels for collected packages: reverse-geocoder\n",
            "  Building wheel for reverse-geocoder (setup.py) ... \u001b[?25l\u001b[?25hdone\n",
            "  Created wheel for reverse-geocoder: filename=reverse_geocoder-1.5.1-cp37-none-any.whl size=2268089 sha256=4c6185af855709b3f5e7e8b2952d80f367a420ba1209db260d17da8c705a4e33\n",
            "  Stored in directory: /root/.cache/pip/wheels/47/05/50/b1350ff094ef91e082665b4a2f9ca551f8acea4aa55d796b26\n",
            "Successfully built reverse-geocoder\n",
            "Installing collected packages: reverse-geocoder\n",
            "Successfully installed reverse-geocoder-1.5.1\n",
            "Requirement already satisfied: geopy in /usr/local/lib/python3.7/dist-packages (1.17.0)\n",
            "Requirement already satisfied: geographiclib<2,>=1.49 in /usr/local/lib/python3.7/dist-packages (from geopy) (1.50)\n"
          ],
          "name": "stdout"
        }
      ]
    },
    {
      "cell_type": "code",
      "metadata": {
        "id": "oq-ya_dhC0YP",
        "colab": {
          "base_uri": "https://localhost:8080/"
        },
        "outputId": "58cabd2e-b81a-4c13-b658-b36a04ee3b0e"
      },
      "source": [
        "from google.colab import drive\n",
        "drive.mount('./drive', force_remount=True)\n",
        "\n",
        "# to be used as a prefix for all file I/O\n",
        "path_prefix = './drive/My Drive'"
      ],
      "execution_count": null,
      "outputs": [
        {
          "output_type": "stream",
          "text": [
            "Mounted at ./drive\n"
          ],
          "name": "stdout"
        }
      ]
    },
    {
      "cell_type": "code",
      "metadata": {
        "id": "sp-HiUHoGfvN"
      },
      "source": [
        "# Importing needed libraries\n",
        "\n",
        "import pandas as pd\n",
        "import numpy as np\n",
        "import matplotlib.pyplot as plt\n",
        "import reverse_geocoder as rg\n",
        "from geopy.distance import geodesic\n",
        "from scipy import stats\n",
        "import seaborn as sns\n",
        "from os.path import join\n",
        "from os import listdir\n",
        "from matplotlib.pyplot import figure\n",
        "\n",
        "import warnings\n",
        "warnings.filterwarnings(\"ignore\")\n",
        "\n",
        "%matplotlib inline"
      ],
      "execution_count": null,
      "outputs": []
    },
    {
      "cell_type": "code",
      "metadata": {
        "id": "bMeYt0X-GkV-"
      },
      "source": [
        "# First file, needed for analyze\n",
        "# we use the read_csv function\n",
        "# to read the dataset into a dataframe\n",
        "\n",
        "filename = \"data.csv\"\n",
        "df = pd.read_csv(join(path_prefix, filename))"
      ],
      "execution_count": null,
      "outputs": []
    },
    {
      "cell_type": "code",
      "metadata": {
        "id": "-IbAwyeFe7ZE"
      },
      "source": [
        "# Second file, needed for analyze\n",
        "# we use the read_csv function\n",
        "# to read the dataset into a dataframe\n",
        "\n",
        "fileGenre = \"data_by_genres.csv\"\n",
        "dfg = pd.read_csv(join(path_prefix, fileGenre))"
      ],
      "execution_count": null,
      "outputs": []
    },
    {
      "cell_type": "code",
      "metadata": {
        "id": "eyvIBQ_5ge8B"
      },
      "source": [
        "# Third file, needed for analyze\n",
        "# we use the read_csv function\n",
        "# to read the dataset into a dataframe\n",
        "\n",
        "fileArtists = \"data_w_genres.csv\"\n",
        "dfa = pd.read_csv(join(path_prefix, fileArtists))"
      ],
      "execution_count": null,
      "outputs": []
    },
    {
      "cell_type": "code",
      "metadata": {
        "colab": {
          "base_uri": "https://localhost:8080/",
          "height": 304
        },
        "id": "2iJbLLpKGxmp",
        "outputId": "5e6fcc34-bc25-48d3-e886-28038bc06779"
      },
      "source": [
        "# analyzing both numeric and object series in the data.csv file\n",
        "# presenting basic information \n",
        "\n",
        "df.describe()"
      ],
      "execution_count": null,
      "outputs": [
        {
          "output_type": "execute_result",
          "data": {
            "text/html": [
              "<div>\n",
              "<style scoped>\n",
              "    .dataframe tbody tr th:only-of-type {\n",
              "        vertical-align: middle;\n",
              "    }\n",
              "\n",
              "    .dataframe tbody tr th {\n",
              "        vertical-align: top;\n",
              "    }\n",
              "\n",
              "    .dataframe thead th {\n",
              "        text-align: right;\n",
              "    }\n",
              "</style>\n",
              "<table border=\"1\" class=\"dataframe\">\n",
              "  <thead>\n",
              "    <tr style=\"text-align: right;\">\n",
              "      <th></th>\n",
              "      <th>acousticness</th>\n",
              "      <th>danceability</th>\n",
              "      <th>duration_ms</th>\n",
              "      <th>energy</th>\n",
              "      <th>explicit</th>\n",
              "      <th>instrumentalness</th>\n",
              "      <th>key</th>\n",
              "      <th>liveness</th>\n",
              "      <th>loudness</th>\n",
              "      <th>mode</th>\n",
              "      <th>popularity</th>\n",
              "      <th>speechiness</th>\n",
              "      <th>tempo</th>\n",
              "      <th>valence</th>\n",
              "      <th>year</th>\n",
              "    </tr>\n",
              "  </thead>\n",
              "  <tbody>\n",
              "    <tr>\n",
              "      <th>count</th>\n",
              "      <td>174389.000000</td>\n",
              "      <td>174389.000000</td>\n",
              "      <td>1.743890e+05</td>\n",
              "      <td>174389.000000</td>\n",
              "      <td>174389.000000</td>\n",
              "      <td>174389.000000</td>\n",
              "      <td>174389.000000</td>\n",
              "      <td>174389.000000</td>\n",
              "      <td>174389.000000</td>\n",
              "      <td>174389.000000</td>\n",
              "      <td>174389.000000</td>\n",
              "      <td>174389.000000</td>\n",
              "      <td>174389.000000</td>\n",
              "      <td>174389.000000</td>\n",
              "      <td>174389.000000</td>\n",
              "    </tr>\n",
              "    <tr>\n",
              "      <th>mean</th>\n",
              "      <td>0.499228</td>\n",
              "      <td>0.536758</td>\n",
              "      <td>2.328100e+05</td>\n",
              "      <td>0.482721</td>\n",
              "      <td>0.068135</td>\n",
              "      <td>0.197252</td>\n",
              "      <td>5.205305</td>\n",
              "      <td>0.211123</td>\n",
              "      <td>-11.750865</td>\n",
              "      <td>0.702384</td>\n",
              "      <td>25.693381</td>\n",
              "      <td>0.105729</td>\n",
              "      <td>117.006500</td>\n",
              "      <td>0.524533</td>\n",
              "      <td>1977.061764</td>\n",
              "    </tr>\n",
              "    <tr>\n",
              "      <th>std</th>\n",
              "      <td>0.379936</td>\n",
              "      <td>0.176025</td>\n",
              "      <td>1.483958e+05</td>\n",
              "      <td>0.272685</td>\n",
              "      <td>0.251978</td>\n",
              "      <td>0.334574</td>\n",
              "      <td>3.518292</td>\n",
              "      <td>0.180493</td>\n",
              "      <td>5.691591</td>\n",
              "      <td>0.457211</td>\n",
              "      <td>21.872740</td>\n",
              "      <td>0.182260</td>\n",
              "      <td>30.254178</td>\n",
              "      <td>0.264477</td>\n",
              "      <td>26.907950</td>\n",
              "    </tr>\n",
              "    <tr>\n",
              "      <th>min</th>\n",
              "      <td>0.000000</td>\n",
              "      <td>0.000000</td>\n",
              "      <td>4.937000e+03</td>\n",
              "      <td>0.000000</td>\n",
              "      <td>0.000000</td>\n",
              "      <td>0.000000</td>\n",
              "      <td>0.000000</td>\n",
              "      <td>0.000000</td>\n",
              "      <td>-60.000000</td>\n",
              "      <td>0.000000</td>\n",
              "      <td>0.000000</td>\n",
              "      <td>0.000000</td>\n",
              "      <td>0.000000</td>\n",
              "      <td>0.000000</td>\n",
              "      <td>1920.000000</td>\n",
              "    </tr>\n",
              "    <tr>\n",
              "      <th>25%</th>\n",
              "      <td>0.087700</td>\n",
              "      <td>0.414000</td>\n",
              "      <td>1.661330e+05</td>\n",
              "      <td>0.249000</td>\n",
              "      <td>0.000000</td>\n",
              "      <td>0.000000</td>\n",
              "      <td>2.000000</td>\n",
              "      <td>0.099200</td>\n",
              "      <td>-14.908000</td>\n",
              "      <td>0.000000</td>\n",
              "      <td>1.000000</td>\n",
              "      <td>0.035200</td>\n",
              "      <td>93.931000</td>\n",
              "      <td>0.311000</td>\n",
              "      <td>1955.000000</td>\n",
              "    </tr>\n",
              "    <tr>\n",
              "      <th>50%</th>\n",
              "      <td>0.517000</td>\n",
              "      <td>0.548000</td>\n",
              "      <td>2.057870e+05</td>\n",
              "      <td>0.465000</td>\n",
              "      <td>0.000000</td>\n",
              "      <td>0.000524</td>\n",
              "      <td>5.000000</td>\n",
              "      <td>0.138000</td>\n",
              "      <td>-10.836000</td>\n",
              "      <td>1.000000</td>\n",
              "      <td>25.000000</td>\n",
              "      <td>0.045500</td>\n",
              "      <td>115.816000</td>\n",
              "      <td>0.536000</td>\n",
              "      <td>1977.000000</td>\n",
              "    </tr>\n",
              "    <tr>\n",
              "      <th>75%</th>\n",
              "      <td>0.895000</td>\n",
              "      <td>0.669000</td>\n",
              "      <td>2.657200e+05</td>\n",
              "      <td>0.711000</td>\n",
              "      <td>0.000000</td>\n",
              "      <td>0.252000</td>\n",
              "      <td>8.000000</td>\n",
              "      <td>0.270000</td>\n",
              "      <td>-7.499000</td>\n",
              "      <td>1.000000</td>\n",
              "      <td>42.000000</td>\n",
              "      <td>0.076300</td>\n",
              "      <td>135.011000</td>\n",
              "      <td>0.743000</td>\n",
              "      <td>1999.000000</td>\n",
              "    </tr>\n",
              "    <tr>\n",
              "      <th>max</th>\n",
              "      <td>0.996000</td>\n",
              "      <td>0.988000</td>\n",
              "      <td>5.338302e+06</td>\n",
              "      <td>1.000000</td>\n",
              "      <td>1.000000</td>\n",
              "      <td>1.000000</td>\n",
              "      <td>11.000000</td>\n",
              "      <td>1.000000</td>\n",
              "      <td>3.855000</td>\n",
              "      <td>1.000000</td>\n",
              "      <td>100.000000</td>\n",
              "      <td>0.971000</td>\n",
              "      <td>243.507000</td>\n",
              "      <td>1.000000</td>\n",
              "      <td>2021.000000</td>\n",
              "    </tr>\n",
              "  </tbody>\n",
              "</table>\n",
              "</div>"
            ],
            "text/plain": [
              "        acousticness   danceability  ...        valence           year\n",
              "count  174389.000000  174389.000000  ...  174389.000000  174389.000000\n",
              "mean        0.499228       0.536758  ...       0.524533    1977.061764\n",
              "std         0.379936       0.176025  ...       0.264477      26.907950\n",
              "min         0.000000       0.000000  ...       0.000000    1920.000000\n",
              "25%         0.087700       0.414000  ...       0.311000    1955.000000\n",
              "50%         0.517000       0.548000  ...       0.536000    1977.000000\n",
              "75%         0.895000       0.669000  ...       0.743000    1999.000000\n",
              "max         0.996000       0.988000  ...       1.000000    2021.000000\n",
              "\n",
              "[8 rows x 15 columns]"
            ]
          },
          "metadata": {
            "tags": []
          },
          "execution_count": 11
        }
      ]
    },
    {
      "cell_type": "code",
      "metadata": {
        "id": "1sT8bwFtHAAT",
        "colab": {
          "base_uri": "https://localhost:8080/"
        },
        "outputId": "a182673a-13e2-432a-f03c-fa6820785a50"
      },
      "source": [
        "# dataframe stores the number of rows and columns \n",
        "# as a tuple \n",
        "# presenting basic information \n",
        "\n",
        "df.shape"
      ],
      "execution_count": null,
      "outputs": [
        {
          "output_type": "execute_result",
          "data": {
            "text/plain": [
              "(174389, 19)"
            ]
          },
          "metadata": {
            "tags": []
          },
          "execution_count": 12
        }
      ]
    },
    {
      "cell_type": "code",
      "metadata": {
        "colab": {
          "base_uri": "https://localhost:8080/",
          "height": 400
        },
        "id": "LvuNQHizOZg6",
        "outputId": "302ff33d-7412-49e0-e6d0-a6712b34840f"
      },
      "source": [
        "# by default returns the top 5 rows of the dataframe\n",
        "# presenting basic information \n",
        "\n",
        "df.head()"
      ],
      "execution_count": null,
      "outputs": [
        {
          "output_type": "execute_result",
          "data": {
            "text/html": [
              "<div>\n",
              "<style scoped>\n",
              "    .dataframe tbody tr th:only-of-type {\n",
              "        vertical-align: middle;\n",
              "    }\n",
              "\n",
              "    .dataframe tbody tr th {\n",
              "        vertical-align: top;\n",
              "    }\n",
              "\n",
              "    .dataframe thead th {\n",
              "        text-align: right;\n",
              "    }\n",
              "</style>\n",
              "<table border=\"1\" class=\"dataframe\">\n",
              "  <thead>\n",
              "    <tr style=\"text-align: right;\">\n",
              "      <th></th>\n",
              "      <th>acousticness</th>\n",
              "      <th>artists</th>\n",
              "      <th>danceability</th>\n",
              "      <th>duration_ms</th>\n",
              "      <th>energy</th>\n",
              "      <th>explicit</th>\n",
              "      <th>id</th>\n",
              "      <th>instrumentalness</th>\n",
              "      <th>key</th>\n",
              "      <th>liveness</th>\n",
              "      <th>loudness</th>\n",
              "      <th>mode</th>\n",
              "      <th>name</th>\n",
              "      <th>popularity</th>\n",
              "      <th>release_date</th>\n",
              "      <th>speechiness</th>\n",
              "      <th>tempo</th>\n",
              "      <th>valence</th>\n",
              "      <th>year</th>\n",
              "    </tr>\n",
              "  </thead>\n",
              "  <tbody>\n",
              "    <tr>\n",
              "      <th>0</th>\n",
              "      <td>0.991000</td>\n",
              "      <td>['Mamie Smith']</td>\n",
              "      <td>0.598</td>\n",
              "      <td>168333</td>\n",
              "      <td>0.224</td>\n",
              "      <td>0</td>\n",
              "      <td>0cS0A1fUEUd1EW3FcF8AEI</td>\n",
              "      <td>0.000522</td>\n",
              "      <td>5</td>\n",
              "      <td>0.3790</td>\n",
              "      <td>-12.628</td>\n",
              "      <td>0</td>\n",
              "      <td>Keep A Song In Your Soul</td>\n",
              "      <td>12</td>\n",
              "      <td>1920</td>\n",
              "      <td>0.0936</td>\n",
              "      <td>149.976</td>\n",
              "      <td>0.6340</td>\n",
              "      <td>1920</td>\n",
              "    </tr>\n",
              "    <tr>\n",
              "      <th>1</th>\n",
              "      <td>0.643000</td>\n",
              "      <td>[\"Screamin' Jay Hawkins\"]</td>\n",
              "      <td>0.852</td>\n",
              "      <td>150200</td>\n",
              "      <td>0.517</td>\n",
              "      <td>0</td>\n",
              "      <td>0hbkKFIJm7Z05H8Zl9w30f</td>\n",
              "      <td>0.026400</td>\n",
              "      <td>5</td>\n",
              "      <td>0.0809</td>\n",
              "      <td>-7.261</td>\n",
              "      <td>0</td>\n",
              "      <td>I Put A Spell On You</td>\n",
              "      <td>7</td>\n",
              "      <td>1920-01-05</td>\n",
              "      <td>0.0534</td>\n",
              "      <td>86.889</td>\n",
              "      <td>0.9500</td>\n",
              "      <td>1920</td>\n",
              "    </tr>\n",
              "    <tr>\n",
              "      <th>2</th>\n",
              "      <td>0.993000</td>\n",
              "      <td>['Mamie Smith']</td>\n",
              "      <td>0.647</td>\n",
              "      <td>163827</td>\n",
              "      <td>0.186</td>\n",
              "      <td>0</td>\n",
              "      <td>11m7laMUgmOKqI3oYzuhne</td>\n",
              "      <td>0.000018</td>\n",
              "      <td>0</td>\n",
              "      <td>0.5190</td>\n",
              "      <td>-12.098</td>\n",
              "      <td>1</td>\n",
              "      <td>Golfing Papa</td>\n",
              "      <td>4</td>\n",
              "      <td>1920</td>\n",
              "      <td>0.1740</td>\n",
              "      <td>97.600</td>\n",
              "      <td>0.6890</td>\n",
              "      <td>1920</td>\n",
              "    </tr>\n",
              "    <tr>\n",
              "      <th>3</th>\n",
              "      <td>0.000173</td>\n",
              "      <td>['Oscar Velazquez']</td>\n",
              "      <td>0.730</td>\n",
              "      <td>422087</td>\n",
              "      <td>0.798</td>\n",
              "      <td>0</td>\n",
              "      <td>19Lc5SfJJ5O1oaxY0fpwfh</td>\n",
              "      <td>0.801000</td>\n",
              "      <td>2</td>\n",
              "      <td>0.1280</td>\n",
              "      <td>-7.311</td>\n",
              "      <td>1</td>\n",
              "      <td>True House Music - Xavier Santos &amp; Carlos Gomi...</td>\n",
              "      <td>17</td>\n",
              "      <td>1920-01-01</td>\n",
              "      <td>0.0425</td>\n",
              "      <td>127.997</td>\n",
              "      <td>0.0422</td>\n",
              "      <td>1920</td>\n",
              "    </tr>\n",
              "    <tr>\n",
              "      <th>4</th>\n",
              "      <td>0.295000</td>\n",
              "      <td>['Mixe']</td>\n",
              "      <td>0.704</td>\n",
              "      <td>165224</td>\n",
              "      <td>0.707</td>\n",
              "      <td>1</td>\n",
              "      <td>2hJjbsLCytGsnAHfdsLejp</td>\n",
              "      <td>0.000246</td>\n",
              "      <td>10</td>\n",
              "      <td>0.4020</td>\n",
              "      <td>-6.036</td>\n",
              "      <td>0</td>\n",
              "      <td>Xuniverxe</td>\n",
              "      <td>2</td>\n",
              "      <td>1920-10-01</td>\n",
              "      <td>0.0768</td>\n",
              "      <td>122.076</td>\n",
              "      <td>0.2990</td>\n",
              "      <td>1920</td>\n",
              "    </tr>\n",
              "  </tbody>\n",
              "</table>\n",
              "</div>"
            ],
            "text/plain": [
              "   acousticness                    artists  ...  valence  year\n",
              "0      0.991000            ['Mamie Smith']  ...   0.6340  1920\n",
              "1      0.643000  [\"Screamin' Jay Hawkins\"]  ...   0.9500  1920\n",
              "2      0.993000            ['Mamie Smith']  ...   0.6890  1920\n",
              "3      0.000173        ['Oscar Velazquez']  ...   0.0422  1920\n",
              "4      0.295000                   ['Mixe']  ...   0.2990  1920\n",
              "\n",
              "[5 rows x 19 columns]"
            ]
          },
          "metadata": {
            "tags": []
          },
          "execution_count": 13
        }
      ]
    },
    {
      "cell_type": "code",
      "metadata": {
        "colab": {
          "base_uri": "https://localhost:8080/",
          "height": 266
        },
        "id": "MvIcTYqb2kj7",
        "outputId": "0f6150e3-b28a-4f70-9339-82db088eab49"
      },
      "source": [
        "# by default returns the top 5 rows of the dataframe\n",
        "# presenting basic information \n",
        "\n",
        "dfg.head()"
      ],
      "execution_count": null,
      "outputs": [
        {
          "output_type": "execute_result",
          "data": {
            "text/html": [
              "<div>\n",
              "<style scoped>\n",
              "    .dataframe tbody tr th:only-of-type {\n",
              "        vertical-align: middle;\n",
              "    }\n",
              "\n",
              "    .dataframe tbody tr th {\n",
              "        vertical-align: top;\n",
              "    }\n",
              "\n",
              "    .dataframe thead th {\n",
              "        text-align: right;\n",
              "    }\n",
              "</style>\n",
              "<table border=\"1\" class=\"dataframe\">\n",
              "  <thead>\n",
              "    <tr style=\"text-align: right;\">\n",
              "      <th></th>\n",
              "      <th>genres</th>\n",
              "      <th>acousticness</th>\n",
              "      <th>danceability</th>\n",
              "      <th>duration_ms</th>\n",
              "      <th>energy</th>\n",
              "      <th>instrumentalness</th>\n",
              "      <th>liveness</th>\n",
              "      <th>loudness</th>\n",
              "      <th>speechiness</th>\n",
              "      <th>tempo</th>\n",
              "      <th>valence</th>\n",
              "      <th>popularity</th>\n",
              "      <th>key</th>\n",
              "      <th>mode</th>\n",
              "    </tr>\n",
              "  </thead>\n",
              "  <tbody>\n",
              "    <tr>\n",
              "      <th>0</th>\n",
              "      <td>21st century classical</td>\n",
              "      <td>0.754600</td>\n",
              "      <td>0.284100</td>\n",
              "      <td>3.525932e+05</td>\n",
              "      <td>0.159580</td>\n",
              "      <td>0.484374</td>\n",
              "      <td>0.168580</td>\n",
              "      <td>-22.153400</td>\n",
              "      <td>0.062060</td>\n",
              "      <td>91.351000</td>\n",
              "      <td>0.143380</td>\n",
              "      <td>6.600000</td>\n",
              "      <td>4</td>\n",
              "      <td>1</td>\n",
              "    </tr>\n",
              "    <tr>\n",
              "      <th>1</th>\n",
              "      <td>432hz</td>\n",
              "      <td>0.485515</td>\n",
              "      <td>0.312000</td>\n",
              "      <td>1.047430e+06</td>\n",
              "      <td>0.391678</td>\n",
              "      <td>0.477250</td>\n",
              "      <td>0.265940</td>\n",
              "      <td>-18.131267</td>\n",
              "      <td>0.071717</td>\n",
              "      <td>118.900933</td>\n",
              "      <td>0.236483</td>\n",
              "      <td>41.200000</td>\n",
              "      <td>11</td>\n",
              "      <td>1</td>\n",
              "    </tr>\n",
              "    <tr>\n",
              "      <th>2</th>\n",
              "      <td>8-bit</td>\n",
              "      <td>0.028900</td>\n",
              "      <td>0.673000</td>\n",
              "      <td>1.334540e+05</td>\n",
              "      <td>0.950000</td>\n",
              "      <td>0.630000</td>\n",
              "      <td>0.069000</td>\n",
              "      <td>-7.899000</td>\n",
              "      <td>0.292000</td>\n",
              "      <td>192.816000</td>\n",
              "      <td>0.997000</td>\n",
              "      <td>0.000000</td>\n",
              "      <td>5</td>\n",
              "      <td>1</td>\n",
              "    </tr>\n",
              "    <tr>\n",
              "      <th>3</th>\n",
              "      <td>[]</td>\n",
              "      <td>0.535793</td>\n",
              "      <td>0.546937</td>\n",
              "      <td>2.495312e+05</td>\n",
              "      <td>0.485430</td>\n",
              "      <td>0.278442</td>\n",
              "      <td>0.220970</td>\n",
              "      <td>-11.624754</td>\n",
              "      <td>0.101511</td>\n",
              "      <td>116.068980</td>\n",
              "      <td>0.486361</td>\n",
              "      <td>12.350770</td>\n",
              "      <td>7</td>\n",
              "      <td>1</td>\n",
              "    </tr>\n",
              "    <tr>\n",
              "      <th>4</th>\n",
              "      <td>a cappella</td>\n",
              "      <td>0.694276</td>\n",
              "      <td>0.516172</td>\n",
              "      <td>2.018391e+05</td>\n",
              "      <td>0.330533</td>\n",
              "      <td>0.036080</td>\n",
              "      <td>0.222983</td>\n",
              "      <td>-12.656547</td>\n",
              "      <td>0.083627</td>\n",
              "      <td>105.506031</td>\n",
              "      <td>0.454077</td>\n",
              "      <td>39.086248</td>\n",
              "      <td>7</td>\n",
              "      <td>1</td>\n",
              "    </tr>\n",
              "  </tbody>\n",
              "</table>\n",
              "</div>"
            ],
            "text/plain": [
              "                   genres  acousticness  danceability  ...  popularity  key  mode\n",
              "0  21st century classical      0.754600      0.284100  ...    6.600000    4     1\n",
              "1                   432hz      0.485515      0.312000  ...   41.200000   11     1\n",
              "2                   8-bit      0.028900      0.673000  ...    0.000000    5     1\n",
              "3                      []      0.535793      0.546937  ...   12.350770    7     1\n",
              "4              a cappella      0.694276      0.516172  ...   39.086248    7     1\n",
              "\n",
              "[5 rows x 14 columns]"
            ]
          },
          "metadata": {
            "tags": []
          },
          "execution_count": 14
        }
      ]
    },
    {
      "cell_type": "code",
      "metadata": {
        "colab": {
          "base_uri": "https://localhost:8080/",
          "height": 467
        },
        "id": "hmj6Hffz6iIm",
        "outputId": "9bd6a426-90aa-4190-cc3b-e8e6cd626852"
      },
      "source": [
        "# by default returns the top 5 rows of the dataframe\n",
        "# presenting basic information \n",
        "\n",
        "dfa.head()"
      ],
      "execution_count": null,
      "outputs": [
        {
          "output_type": "execute_result",
          "data": {
            "text/html": [
              "<div>\n",
              "<style scoped>\n",
              "    .dataframe tbody tr th:only-of-type {\n",
              "        vertical-align: middle;\n",
              "    }\n",
              "\n",
              "    .dataframe tbody tr th {\n",
              "        vertical-align: top;\n",
              "    }\n",
              "\n",
              "    .dataframe thead th {\n",
              "        text-align: right;\n",
              "    }\n",
              "</style>\n",
              "<table border=\"1\" class=\"dataframe\">\n",
              "  <thead>\n",
              "    <tr style=\"text-align: right;\">\n",
              "      <th></th>\n",
              "      <th>artists</th>\n",
              "      <th>acousticness</th>\n",
              "      <th>danceability</th>\n",
              "      <th>duration_ms</th>\n",
              "      <th>energy</th>\n",
              "      <th>instrumentalness</th>\n",
              "      <th>liveness</th>\n",
              "      <th>loudness</th>\n",
              "      <th>speechiness</th>\n",
              "      <th>tempo</th>\n",
              "      <th>valence</th>\n",
              "      <th>popularity</th>\n",
              "      <th>key</th>\n",
              "      <th>mode</th>\n",
              "      <th>count</th>\n",
              "      <th>genres</th>\n",
              "    </tr>\n",
              "  </thead>\n",
              "  <tbody>\n",
              "    <tr>\n",
              "      <th>0</th>\n",
              "      <td>\"Cats\" 1981 Original London Cast</td>\n",
              "      <td>0.598500</td>\n",
              "      <td>0.470100</td>\n",
              "      <td>267072.000000</td>\n",
              "      <td>0.376203</td>\n",
              "      <td>0.010261</td>\n",
              "      <td>0.283050</td>\n",
              "      <td>-14.434300</td>\n",
              "      <td>0.209150</td>\n",
              "      <td>114.128800</td>\n",
              "      <td>0.358320</td>\n",
              "      <td>38.200000</td>\n",
              "      <td>5</td>\n",
              "      <td>1</td>\n",
              "      <td>10</td>\n",
              "      <td>['show tunes']</td>\n",
              "    </tr>\n",
              "    <tr>\n",
              "      <th>1</th>\n",
              "      <td>\"Cats\" 1983 Broadway Cast</td>\n",
              "      <td>0.862538</td>\n",
              "      <td>0.441731</td>\n",
              "      <td>287280.000000</td>\n",
              "      <td>0.406808</td>\n",
              "      <td>0.081158</td>\n",
              "      <td>0.315215</td>\n",
              "      <td>-10.690000</td>\n",
              "      <td>0.176212</td>\n",
              "      <td>103.044154</td>\n",
              "      <td>0.268865</td>\n",
              "      <td>31.538462</td>\n",
              "      <td>5</td>\n",
              "      <td>1</td>\n",
              "      <td>26</td>\n",
              "      <td>[]</td>\n",
              "    </tr>\n",
              "    <tr>\n",
              "      <th>2</th>\n",
              "      <td>\"Fiddler On The Roof” Motion Picture Chorus</td>\n",
              "      <td>0.856571</td>\n",
              "      <td>0.348286</td>\n",
              "      <td>328920.000000</td>\n",
              "      <td>0.286571</td>\n",
              "      <td>0.024593</td>\n",
              "      <td>0.325786</td>\n",
              "      <td>-15.230714</td>\n",
              "      <td>0.118514</td>\n",
              "      <td>77.375857</td>\n",
              "      <td>0.354857</td>\n",
              "      <td>34.571429</td>\n",
              "      <td>0</td>\n",
              "      <td>1</td>\n",
              "      <td>7</td>\n",
              "      <td>[]</td>\n",
              "    </tr>\n",
              "    <tr>\n",
              "      <th>3</th>\n",
              "      <td>\"Fiddler On The Roof” Motion Picture Orchestra</td>\n",
              "      <td>0.884926</td>\n",
              "      <td>0.425074</td>\n",
              "      <td>262890.962963</td>\n",
              "      <td>0.245770</td>\n",
              "      <td>0.073587</td>\n",
              "      <td>0.275481</td>\n",
              "      <td>-15.639370</td>\n",
              "      <td>0.123200</td>\n",
              "      <td>88.667630</td>\n",
              "      <td>0.372030</td>\n",
              "      <td>34.407407</td>\n",
              "      <td>0</td>\n",
              "      <td>1</td>\n",
              "      <td>27</td>\n",
              "      <td>[]</td>\n",
              "    </tr>\n",
              "    <tr>\n",
              "      <th>4</th>\n",
              "      <td>\"Joseph And The Amazing Technicolor Dreamcoat\"...</td>\n",
              "      <td>0.510714</td>\n",
              "      <td>0.467143</td>\n",
              "      <td>270436.142857</td>\n",
              "      <td>0.488286</td>\n",
              "      <td>0.009400</td>\n",
              "      <td>0.195000</td>\n",
              "      <td>-10.236714</td>\n",
              "      <td>0.098543</td>\n",
              "      <td>122.835857</td>\n",
              "      <td>0.482286</td>\n",
              "      <td>42.000000</td>\n",
              "      <td>5</td>\n",
              "      <td>1</td>\n",
              "      <td>7</td>\n",
              "      <td>[]</td>\n",
              "    </tr>\n",
              "  </tbody>\n",
              "</table>\n",
              "</div>"
            ],
            "text/plain": [
              "                                             artists  ...          genres\n",
              "0                   \"Cats\" 1981 Original London Cast  ...  ['show tunes']\n",
              "1                          \"Cats\" 1983 Broadway Cast  ...              []\n",
              "2        \"Fiddler On The Roof” Motion Picture Chorus  ...              []\n",
              "3     \"Fiddler On The Roof” Motion Picture Orchestra  ...              []\n",
              "4  \"Joseph And The Amazing Technicolor Dreamcoat\"...  ...              []\n",
              "\n",
              "[5 rows x 16 columns]"
            ]
          },
          "metadata": {
            "tags": []
          },
          "execution_count": 15
        }
      ]
    },
    {
      "cell_type": "code",
      "metadata": {
        "colab": {
          "base_uri": "https://localhost:8080/"
        },
        "id": "PcqJ2H3tOibt",
        "outputId": "2e42a7e2-972e-4493-a646-6678159c4989"
      },
      "source": [
        "# an information / summary of the dataframe\n",
        "# presenting basic information \n",
        "\n",
        "df.info()"
      ],
      "execution_count": null,
      "outputs": [
        {
          "output_type": "stream",
          "text": [
            "<class 'pandas.core.frame.DataFrame'>\n",
            "RangeIndex: 174389 entries, 0 to 174388\n",
            "Data columns (total 19 columns):\n",
            " #   Column            Non-Null Count   Dtype  \n",
            "---  ------            --------------   -----  \n",
            " 0   acousticness      174389 non-null  float64\n",
            " 1   artists           174389 non-null  object \n",
            " 2   danceability      174389 non-null  float64\n",
            " 3   duration_ms       174389 non-null  int64  \n",
            " 4   energy            174389 non-null  float64\n",
            " 5   explicit          174389 non-null  int64  \n",
            " 6   id                174389 non-null  object \n",
            " 7   instrumentalness  174389 non-null  float64\n",
            " 8   key               174389 non-null  int64  \n",
            " 9   liveness          174389 non-null  float64\n",
            " 10  loudness          174389 non-null  float64\n",
            " 11  mode              174389 non-null  int64  \n",
            " 12  name              174389 non-null  object \n",
            " 13  popularity        174389 non-null  int64  \n",
            " 14  release_date      174389 non-null  object \n",
            " 15  speechiness       174389 non-null  float64\n",
            " 16  tempo             174389 non-null  float64\n",
            " 17  valence           174389 non-null  float64\n",
            " 18  year              174389 non-null  int64  \n",
            "dtypes: float64(9), int64(6), object(4)\n",
            "memory usage: 25.3+ MB\n"
          ],
          "name": "stdout"
        }
      ]
    },
    {
      "cell_type": "code",
      "metadata": {
        "colab": {
          "base_uri": "https://localhost:8080/"
        },
        "id": "1OHXW5b0O4kB",
        "outputId": "b821e2ab-26ff-4554-ccb4-7b8ebd8dfb73"
      },
      "source": [
        "# we used print() and len() function for\n",
        "# seeing all numbers of \n",
        "# genres/songs/artists\n",
        "\n",
        "# len() function returns the number of items\n",
        "# in an object\n",
        "\n",
        "print(\"Number of genres:\", len(dfg))\n",
        "print(\"Number of songs:\", len(df))\n",
        "print(\"Number of artists:\", len(dfa))"
      ],
      "execution_count": null,
      "outputs": [
        {
          "output_type": "stream",
          "text": [
            "Number of genres: 3232\n",
            "Number of songs: 174389\n",
            "Number of artists: 32539\n"
          ],
          "name": "stdout"
        }
      ]
    },
    {
      "cell_type": "code",
      "metadata": {
        "colab": {
          "base_uri": "https://localhost:8080/",
          "height": 429
        },
        "id": "GjZIwYQGcAh-",
        "outputId": "544fd4ce-95b8-4389-ca2e-430aeae1c164"
      },
      "source": [
        "# In this cell, we plot how many songs in a year produced\n",
        "\n",
        "figure(figsize=(8, 6), dpi=80)\n",
        "\n",
        "num_bins = 100\n",
        "n, bins, patches = plt.hist(df['year'], num_bins, facecolor='blue', alpha=0.5)\n",
        "plt.title('Occurences/Year of songs')\n",
        "plt.show()"
      ],
      "execution_count": null,
      "outputs": [
        {
          "output_type": "display_data",
          "data": {
            "image/png": "[encoded data removed]",
            "text/plain": [
              "<Figure size 640x480 with 1 Axes>"
            ]
          },
          "metadata": {
            "tags": [],
            "needs_background": "light"
          }
        }
      ]
    },
    {
      "cell_type": "markdown",
      "metadata": {
        "id": "FivBZkmR7SH6"
      },
      "source": [
        "`We can interpret that in 2020, there is a clear rise of numbers of songs. Also, in the 70s to late 90s, we can see that there is approximately same numbers of songs produced in a year. `"
      ]
    },
    {
      "cell_type": "code",
      "metadata": {
        "colab": {
          "base_uri": "https://localhost:8080/",
          "height": 429
        },
        "id": "Z3hLdT_1RJ0g",
        "outputId": "a7ea2fe2-9bb2-4591-ffb0-f9648c52a46b"
      },
      "source": [
        "figure(figsize=(8, 6), dpi=80)\n",
        "\n",
        "num_bins = 50\n",
        "n, bins, patches = plt.hist(df['popularity'], num_bins, facecolor='blue', alpha=0.5)\n",
        "plt.title('Count/Popularity of Songs')\n",
        "plt.show()"
      ],
      "execution_count": null,
      "outputs": [
        {
          "output_type": "display_data",
          "data": {
            "image/png": "[encoded data removed]",
            "text/plain": [
              "<Figure size 640x480 with 1 Axes>"
            ]
          },
          "metadata": {
            "tags": [],
            "needs_background": "light"
          }
        }
      ]
    },
    {
      "cell_type": "code",
      "metadata": {
        "colab": {
          "base_uri": "https://localhost:8080/",
          "height": 429
        },
        "id": "BsMvOZ7QVo2y",
        "outputId": "f7662373-d1b3-4669-a169-3cd17d31ce38"
      },
      "source": [
        "# Because (0) popularity dominates the histogram, we started it from (2)\n",
        "# This is a zoomed version of above cell\n",
        "\n",
        "figure(figsize=(8, 6), dpi=80)\n",
        "\n",
        "num_bins = 50\n",
        "n, bins, patches = plt.hist(df['popularity'], num_bins, range = [2, 100], facecolor='blue', alpha=0.5)\n",
        "plt.title('Count/Popularity of songs')\n",
        "plt.show()"
      ],
      "execution_count": null,
      "outputs": [
        {
          "output_type": "display_data",
          "data": {
            "image/png": "[encoded data removed]",
            "text/plain": [
              "<Figure size 640x480 with 1 Axes>"
            ]
          },
          "metadata": {
            "tags": [],
            "needs_background": "light"
          }
        }
      ]
    },
    {
      "cell_type": "code",
      "metadata": {
        "colab": {
          "base_uri": "https://localhost:8080/",
          "height": 608
        },
        "id": "ame_yVE8hPUb",
        "outputId": "7d173b68-65cb-46be-ad64-99c3522d6078"
      },
      "source": [
        "figure(figsize = (12, 9), dpi = 80)\n",
        "\n",
        "num_bins = 50\n",
        "n, bins, patches = plt.hist(dfa['count'], num_bins, range = [2, 100], facecolor='blue', alpha=0.5)\n",
        "plt.ylabel(\"Occurence\")\n",
        "plt.xlabel(\"Number of songs of an artist\")\n",
        "plt.show()"
      ],
      "execution_count": null,
      "outputs": [
        {
          "output_type": "display_data",
          "data": {
            "image/png": "[encoded data removed]",
            "text/plain": [
              "<Figure size 960x720 with 1 Axes>"
            ]
          },
          "metadata": {
            "tags": [],
            "needs_background": "light"
          }
        }
      ]
    },
    {
      "cell_type": "code",
      "metadata": {
        "colab": {
          "base_uri": "https://localhost:8080/",
          "height": 563
        },
        "id": "HO_EO4HpIncn",
        "outputId": "a152b719-c203-45dd-c43c-55e13bbcb081"
      },
      "source": [
        "# for distribute plots\n",
        "\n",
        "figure(figsize=(8, 6), dpi=80)\n",
        "\n",
        "plt.title(\"Duration of songs ms\")\n",
        "plt.boxplot(df[\"duration_ms\"])"
      ],
      "execution_count": null,
      "outputs": [
        {
          "output_type": "execute_result",
          "data": {
            "text/plain": [
              "{'boxes': [<matplotlib.lines.Line2D at 0x7eff2d3c1350>],\n",
              " 'caps': [<matplotlib.lines.Line2D at 0x7eff2d3c1e50>,\n",
              "  <matplotlib.lines.Line2D at 0x7eff2d145dd0>],\n",
              " 'fliers': [<matplotlib.lines.Line2D at 0x7eff2d145f50>],\n",
              " 'means': [],\n",
              " 'medians': [<matplotlib.lines.Line2D at 0x7eff2d1453d0>],\n",
              " 'whiskers': [<matplotlib.lines.Line2D at 0x7eff2d15cb90>,\n",
              "  <matplotlib.lines.Line2D at 0x7eff2d3c1450>]}"
            ]
          },
          "metadata": {
            "tags": []
          },
          "execution_count": 22
        },
        {
          "output_type": "display_data",
          "data": {
            "image/png": "[encoded data removed]",
            "text/plain": [
              "<Figure size 640x480 with 1 Axes>"
            ]
          },
          "metadata": {
            "tags": [],
            "needs_background": "light"
          }
        }
      ]
    },
    {
      "cell_type": "markdown",
      "metadata": {
        "id": "O4_3kudPotBk"
      },
      "source": [
        "## Visualizations of Aggregated Forms Based on Features"
      ]
    },
    {
      "cell_type": "code",
      "metadata": {
        "colab": {
          "base_uri": "https://localhost:8080/",
          "height": 568
        },
        "id": "ci11DNXsgUML",
        "outputId": "80f14702-7ece-4655-97ee-c98ad5d1de44"
      },
      "source": [
        "# In this cell we get a particular genre's\n",
        "# (rock) data from data_w_genres.csv \n",
        "\n",
        "data = []\n",
        "for index, row in dfa.iterrows():\n",
        "  if row[\"genres\"].count(\"rock\") > 0:\n",
        "    data.append(row)\n",
        "\n",
        "dfAGR = pd.DataFrame(data)\n",
        "dfAGR.head()"
      ],
      "execution_count": null,
      "outputs": [
        {
          "output_type": "execute_result",
          "data": {
            "text/html": [
              "<div>\n",
              "<style scoped>\n",
              "    .dataframe tbody tr th:only-of-type {\n",
              "        vertical-align: middle;\n",
              "    }\n",
              "\n",
              "    .dataframe tbody tr th {\n",
              "        vertical-align: top;\n",
              "    }\n",
              "\n",
              "    .dataframe thead th {\n",
              "        text-align: right;\n",
              "    }\n",
              "</style>\n",
              "<table border=\"1\" class=\"dataframe\">\n",
              "  <thead>\n",
              "    <tr style=\"text-align: right;\">\n",
              "      <th></th>\n",
              "      <th>artists</th>\n",
              "      <th>acousticness</th>\n",
              "      <th>danceability</th>\n",
              "      <th>duration_ms</th>\n",
              "      <th>energy</th>\n",
              "      <th>instrumentalness</th>\n",
              "      <th>liveness</th>\n",
              "      <th>loudness</th>\n",
              "      <th>speechiness</th>\n",
              "      <th>tempo</th>\n",
              "      <th>valence</th>\n",
              "      <th>popularity</th>\n",
              "      <th>key</th>\n",
              "      <th>mode</th>\n",
              "      <th>count</th>\n",
              "      <th>genres</th>\n",
              "    </tr>\n",
              "  </thead>\n",
              "  <tbody>\n",
              "    <tr>\n",
              "      <th>8</th>\n",
              "      <td>\"Weird Al\" Yankovic</td>\n",
              "      <td>0.186821</td>\n",
              "      <td>0.650792</td>\n",
              "      <td>218352.962264</td>\n",
              "      <td>0.693189</td>\n",
              "      <td>0.000045</td>\n",
              "      <td>0.160926</td>\n",
              "      <td>-9.691151</td>\n",
              "      <td>0.082275</td>\n",
              "      <td>132.876604</td>\n",
              "      <td>0.764585</td>\n",
              "      <td>32.867925</td>\n",
              "      <td>9</td>\n",
              "      <td>1</td>\n",
              "      <td>106</td>\n",
              "      <td>['comedy rock', 'comic', 'parody']</td>\n",
              "    </tr>\n",
              "    <tr>\n",
              "      <th>16</th>\n",
              "      <td>'Til Tuesday</td>\n",
              "      <td>0.105556</td>\n",
              "      <td>0.557125</td>\n",
              "      <td>255213.500000</td>\n",
              "      <td>0.612250</td>\n",
              "      <td>0.023300</td>\n",
              "      <td>0.127588</td>\n",
              "      <td>-9.638125</td>\n",
              "      <td>0.032150</td>\n",
              "      <td>103.080250</td>\n",
              "      <td>0.532625</td>\n",
              "      <td>33.875000</td>\n",
              "      <td>0</td>\n",
              "      <td>1</td>\n",
              "      <td>16</td>\n",
              "      <td>['boston rock', 'dance rock', 'new romantic', ...</td>\n",
              "    </tr>\n",
              "    <tr>\n",
              "      <th>21</th>\n",
              "      <td>(Hed) P.E.</td>\n",
              "      <td>0.005993</td>\n",
              "      <td>0.593667</td>\n",
              "      <td>261253.333333</td>\n",
              "      <td>0.895667</td>\n",
              "      <td>0.000003</td>\n",
              "      <td>0.128200</td>\n",
              "      <td>-5.163000</td>\n",
              "      <td>0.095233</td>\n",
              "      <td>110.925000</td>\n",
              "      <td>0.413000</td>\n",
              "      <td>45.333333</td>\n",
              "      <td>6</td>\n",
              "      <td>1</td>\n",
              "      <td>6</td>\n",
              "      <td>['alternative metal', 'industrial metal', 'nu ...</td>\n",
              "    </tr>\n",
              "    <tr>\n",
              "      <th>26</th>\n",
              "      <td>...And You Will Know Us by the Trail of Dead</td>\n",
              "      <td>0.008410</td>\n",
              "      <td>0.255000</td>\n",
              "      <td>273624.000000</td>\n",
              "      <td>0.858000</td>\n",
              "      <td>0.000355</td>\n",
              "      <td>0.513000</td>\n",
              "      <td>-5.085000</td>\n",
              "      <td>0.069400</td>\n",
              "      <td>144.653000</td>\n",
              "      <td>0.237000</td>\n",
              "      <td>36.000000</td>\n",
              "      <td>7</td>\n",
              "      <td>1</td>\n",
              "      <td>2</td>\n",
              "      <td>['alternative rock', 'dance-punk', 'double dru...</td>\n",
              "    </tr>\n",
              "    <tr>\n",
              "      <th>32</th>\n",
              "      <td>10 Ft. Ganja Plant</td>\n",
              "      <td>0.195000</td>\n",
              "      <td>0.786000</td>\n",
              "      <td>277307.000000</td>\n",
              "      <td>0.752000</td>\n",
              "      <td>0.867000</td>\n",
              "      <td>0.042700</td>\n",
              "      <td>-2.859000</td>\n",
              "      <td>0.038700</td>\n",
              "      <td>136.578000</td>\n",
              "      <td>0.925000</td>\n",
              "      <td>49.000000</td>\n",
              "      <td>2</td>\n",
              "      <td>0</td>\n",
              "      <td>2</td>\n",
              "      <td>['dub', 'east coast reggae', 'reggae', 'reggae...</td>\n",
              "    </tr>\n",
              "  </tbody>\n",
              "</table>\n",
              "</div>"
            ],
            "text/plain": [
              "                                         artists  ...                                             genres\n",
              "8                            \"Weird Al\" Yankovic  ...                 ['comedy rock', 'comic', 'parody']\n",
              "16                                  'Til Tuesday  ...  ['boston rock', 'dance rock', 'new romantic', ...\n",
              "21                                    (Hed) P.E.  ...  ['alternative metal', 'industrial metal', 'nu ...\n",
              "26  ...And You Will Know Us by the Trail of Dead  ...  ['alternative rock', 'dance-punk', 'double dru...\n",
              "32                            10 Ft. Ganja Plant  ...  ['dub', 'east coast reggae', 'reggae', 'reggae...\n",
              "\n",
              "[5 rows x 16 columns]"
            ]
          },
          "metadata": {
            "tags": []
          },
          "execution_count": 23
        }
      ]
    },
    {
      "cell_type": "code",
      "metadata": {
        "colab": {
          "base_uri": "https://localhost:8080/",
          "height": 518
        },
        "id": "QDxZ9vNK-8pi",
        "outputId": "1454a1d0-e12e-4e12-88e0-f0c30e6ffcf1"
      },
      "source": [
        "# In this cell we get a particular genre's\n",
        "# (pop) data from data_w_genres.csv \n",
        "\n",
        "data = []\n",
        "for index, row in dfa.iterrows():\n",
        "  if row[\"genres\"].count(\"pop\") > 0:\n",
        "    data.append(row)\n",
        "\n",
        "dfAGP = pd.DataFrame(data)\n",
        "dfAGP.head()"
      ],
      "execution_count": null,
      "outputs": [
        {
          "output_type": "execute_result",
          "data": {
            "text/html": [
              "<div>\n",
              "<style scoped>\n",
              "    .dataframe tbody tr th:only-of-type {\n",
              "        vertical-align: middle;\n",
              "    }\n",
              "\n",
              "    .dataframe tbody tr th {\n",
              "        vertical-align: top;\n",
              "    }\n",
              "\n",
              "    .dataframe thead th {\n",
              "        text-align: right;\n",
              "    }\n",
              "</style>\n",
              "<table border=\"1\" class=\"dataframe\">\n",
              "  <thead>\n",
              "    <tr style=\"text-align: right;\">\n",
              "      <th></th>\n",
              "      <th>artists</th>\n",
              "      <th>acousticness</th>\n",
              "      <th>danceability</th>\n",
              "      <th>duration_ms</th>\n",
              "      <th>energy</th>\n",
              "      <th>instrumentalness</th>\n",
              "      <th>liveness</th>\n",
              "      <th>loudness</th>\n",
              "      <th>speechiness</th>\n",
              "      <th>tempo</th>\n",
              "      <th>valence</th>\n",
              "      <th>popularity</th>\n",
              "      <th>key</th>\n",
              "      <th>mode</th>\n",
              "      <th>count</th>\n",
              "      <th>genres</th>\n",
              "    </tr>\n",
              "  </thead>\n",
              "  <tbody>\n",
              "    <tr>\n",
              "      <th>16</th>\n",
              "      <td>'Til Tuesday</td>\n",
              "      <td>0.105556</td>\n",
              "      <td>0.557125</td>\n",
              "      <td>255213.500000</td>\n",
              "      <td>0.612250</td>\n",
              "      <td>0.023300</td>\n",
              "      <td>0.127588</td>\n",
              "      <td>-9.638125</td>\n",
              "      <td>0.032150</td>\n",
              "      <td>103.080250</td>\n",
              "      <td>0.532625</td>\n",
              "      <td>33.875000</td>\n",
              "      <td>0</td>\n",
              "      <td>1</td>\n",
              "      <td>16</td>\n",
              "      <td>['boston rock', 'dance rock', 'new romantic', ...</td>\n",
              "    </tr>\n",
              "    <tr>\n",
              "      <th>20</th>\n",
              "      <td>(G)I-DLE</td>\n",
              "      <td>0.026794</td>\n",
              "      <td>0.534000</td>\n",
              "      <td>193085.600000</td>\n",
              "      <td>0.829800</td>\n",
              "      <td>0.000002</td>\n",
              "      <td>0.168880</td>\n",
              "      <td>-3.950800</td>\n",
              "      <td>0.061040</td>\n",
              "      <td>130.417800</td>\n",
              "      <td>0.353400</td>\n",
              "      <td>76.600000</td>\n",
              "      <td>6</td>\n",
              "      <td>0</td>\n",
              "      <td>5</td>\n",
              "      <td>['k-pop', 'k-pop girl group']</td>\n",
              "    </tr>\n",
              "    <tr>\n",
              "      <th>22</th>\n",
              "      <td>*NSYNC</td>\n",
              "      <td>0.184855</td>\n",
              "      <td>0.600253</td>\n",
              "      <td>234698.484848</td>\n",
              "      <td>0.697222</td>\n",
              "      <td>0.001293</td>\n",
              "      <td>0.227343</td>\n",
              "      <td>-6.386556</td>\n",
              "      <td>0.054446</td>\n",
              "      <td>116.974071</td>\n",
              "      <td>0.556990</td>\n",
              "      <td>46.040404</td>\n",
              "      <td>9</td>\n",
              "      <td>1</td>\n",
              "      <td>99</td>\n",
              "      <td>['boy band', 'dance pop', 'europop', 'pop']</td>\n",
              "    </tr>\n",
              "    <tr>\n",
              "      <th>29</th>\n",
              "      <td>015B</td>\n",
              "      <td>0.475276</td>\n",
              "      <td>0.624000</td>\n",
              "      <td>234111.137931</td>\n",
              "      <td>0.564793</td>\n",
              "      <td>0.000633</td>\n",
              "      <td>0.186538</td>\n",
              "      <td>-5.962414</td>\n",
              "      <td>0.066028</td>\n",
              "      <td>112.891897</td>\n",
              "      <td>0.437897</td>\n",
              "      <td>15.206897</td>\n",
              "      <td>0</td>\n",
              "      <td>1</td>\n",
              "      <td>29</td>\n",
              "      <td>['k-indie', 'korean electropop', 'korean pop']</td>\n",
              "    </tr>\n",
              "    <tr>\n",
              "      <th>34</th>\n",
              "      <td>10,000 Maniacs</td>\n",
              "      <td>0.182434</td>\n",
              "      <td>0.588000</td>\n",
              "      <td>235077.529412</td>\n",
              "      <td>0.556506</td>\n",
              "      <td>0.002059</td>\n",
              "      <td>0.206265</td>\n",
              "      <td>-13.217765</td>\n",
              "      <td>0.039018</td>\n",
              "      <td>115.606118</td>\n",
              "      <td>0.616176</td>\n",
              "      <td>37.882353</td>\n",
              "      <td>9</td>\n",
              "      <td>1</td>\n",
              "      <td>34</td>\n",
              "      <td>['folk', 'lilith', 'mellow gold', 'new wave po...</td>\n",
              "    </tr>\n",
              "  </tbody>\n",
              "</table>\n",
              "</div>"
            ],
            "text/plain": [
              "           artists  ...                                             genres\n",
              "16    'Til Tuesday  ...  ['boston rock', 'dance rock', 'new romantic', ...\n",
              "20        (G)I-DLE  ...                      ['k-pop', 'k-pop girl group']\n",
              "22          *NSYNC  ...        ['boy band', 'dance pop', 'europop', 'pop']\n",
              "29            015B  ...     ['k-indie', 'korean electropop', 'korean pop']\n",
              "34  10,000 Maniacs  ...  ['folk', 'lilith', 'mellow gold', 'new wave po...\n",
              "\n",
              "[5 rows x 16 columns]"
            ]
          },
          "metadata": {
            "tags": []
          },
          "execution_count": 24
        }
      ]
    },
    {
      "cell_type": "code",
      "metadata": {
        "colab": {
          "base_uri": "https://localhost:8080/"
        },
        "id": "Q6Z_QJgH_RCS",
        "outputId": "e716e4e0-edcb-4a75-9de5-e287f75091f4"
      },
      "source": [
        "# to see basic data about genres;\n",
        "# rock and pop\n",
        "\n",
        "print(\"Pop len:\", len(dfAGP))\n",
        "print(\"Rock len:\", len(dfAGR))"
      ],
      "execution_count": null,
      "outputs": [
        {
          "output_type": "stream",
          "text": [
            "Pop len: 5183\n",
            "Rock len: 3964\n"
          ],
          "name": "stdout"
        }
      ]
    },
    {
      "cell_type": "markdown",
      "metadata": {
        "id": "AiPPlDO49S7f"
      },
      "source": [
        "`This shows that pop songs are more produced than rock songs.`"
      ]
    },
    {
      "cell_type": "code",
      "metadata": {
        "id": "uuSR3kri_fex"
      },
      "source": [
        "# In this cell, we get mean and median values\n",
        "# of popularity of genres (rock and pop)\n",
        "\n",
        "rock_mean = dfAGR[\"popularity\"].mean()\n",
        "pop_mean = dfAGP[\"popularity\"].mean()\n",
        "\n",
        "rock_med = dfAGR[\"popularity\"].median()\n",
        "pop_med = dfAGP[\"popularity\"].median()"
      ],
      "execution_count": null,
      "outputs": []
    },
    {
      "cell_type": "code",
      "metadata": {
        "colab": {
          "base_uri": "https://localhost:8080/",
          "height": 716
        },
        "id": "0vUvgUYmBE9q",
        "outputId": "3d27d0b5-40cc-45c3-8f90-98a22e2ed1e7"
      },
      "source": [
        "# In this cell we try to show and analyze their mean and median \n",
        "# values with using bar charts to see clear\n",
        "\n",
        "fig, ax = plt.subplots(figsize = (12, 12), nrows = 1, ncols = 2)\n",
        "\n",
        "# Making chart's axes x and y\n",
        "plt_x = [\"rock\", \"pop\"]\n",
        "plt_y_mean = [rock_mean, pop_mean]\n",
        "plt_y_med = [rock_med, pop_med]\n",
        "\n",
        "# Creating bar charts\n",
        "ax[0].bar(plt_x, plt_y_mean)\n",
        "ax[1].bar(plt_x, plt_y_med)\n",
        "\n",
        "# Making titles for not mixing mean and median values\n",
        "ax[0].set_title(\"Popularity Mean -> Rock vs Pop\")\n",
        "ax[1].set_title(\"Popularity Median -> Rock vs Pop\")\n",
        "\n",
        "plt.show()"
      ],
      "execution_count": null,
      "outputs": [
        {
          "output_type": "display_data",
          "data": {
            "image/png": "[encoded data removed]",
            "text/plain": [
              "<Figure size 864x864 with 2 Axes>"
            ]
          },
          "metadata": {
            "tags": [],
            "needs_background": "light"
          }
        }
      ]
    },
    {
      "cell_type": "markdown",
      "metadata": {
        "id": "AKj1z3jrBdJs"
      },
      "source": [
        "\n",
        "\n",
        "```\n",
        "We can analyze from first bar chart that pop is more popular than rock.\n",
        "\n",
        "In the second bar chart, it is more clear that pop's median is higher than rock's median.\n",
        "```\n",
        "\n"
      ]
    },
    {
      "cell_type": "code",
      "metadata": {
        "colab": {
          "base_uri": "https://localhost:8080/"
        },
        "id": "iR2BwHAVHA5t",
        "outputId": "33cf2bef-44e2-45c0-ddcf-a7a8643f4805"
      },
      "source": [
        "# In this cell, we get mean values\n",
        "# of acousticness and tempo of genres (rock and pop)\n",
        "\n",
        "rock_ac = dfAGR[\"acousticness\"].mean()\n",
        "pop_ac = dfAGP[\"acousticness\"].mean()\n",
        "\n",
        "rock_tempo = dfAGR[\"tempo\"].mean()\n",
        "pop_tempo = dfAGP[\"tempo\"].mean()\n",
        "\n",
        "print(rock_tempo, pop_tempo)"
      ],
      "execution_count": null,
      "outputs": [
        {
          "output_type": "stream",
          "text": [
            "122.65010329274182 120.93348531816262\n"
          ],
          "name": "stdout"
        }
      ]
    },
    {
      "cell_type": "code",
      "metadata": {
        "colab": {
          "base_uri": "https://localhost:8080/",
          "height": 716
        },
        "id": "bt1BZbGNG8yh",
        "outputId": "d9cf8211-3b88-4480-d0f1-e9ab27cc2184"
      },
      "source": [
        "fig, ax = plt.subplots(figsize = (12, 12), nrows = 1, ncols = 2)\n",
        "\n",
        "# Making chart's axes x and y\n",
        "plt_x = [\"rock\", \"pop\"]\n",
        "plt_y_ac = [rock_ac, pop_ac]\n",
        "plt_y_tempo = [rock_tempo, pop_tempo]\n",
        "\n",
        "# Creating bar charts and use grid for see data more clear \n",
        "# and understandable\n",
        "ax[0].bar(plt_x, plt_y_ac)\n",
        "ax[0].grid(color='#95a5a6', linestyle='--', linewidth=2, axis='y', alpha=0.7)\n",
        "ax[1].bar(plt_x, plt_y_tempo)\n",
        "ax[1].grid(color='#95a5a6', linestyle='--', linewidth=2, axis='y', alpha=0.7)\n",
        "\n",
        "# Making titles for not mixing mean values\n",
        "ax[0].set_title(\"Acousticness Mean -> Rock vs Pop\")\n",
        "ax[1].set_title(\"Tempo Mean -> Rock vs Pop\")\n",
        "\n",
        "plt.show()"
      ],
      "execution_count": null,
      "outputs": [
        {
          "output_type": "display_data",
          "data": {
            "image/png": "[encoded data removed]",
            "text/plain": [
              "<Figure size 864x864 with 2 Axes>"
            ]
          },
          "metadata": {
            "tags": [],
            "needs_background": "light"
          }
        }
      ]
    },
    {
      "cell_type": "markdown",
      "metadata": {
        "id": "Vv3HxYT-CRNb"
      },
      "source": [
        "\n",
        "\n",
        "```\n",
        "We analyzed two specifications which were acousticness and tempo in \n",
        "these bar charts. It is clear that according to acousticness pop's mean is higher than rock's mean. \n",
        "According to tempo rock's mean is higher than pop's mean.\n",
        "```\n",
        "\n"
      ]
    },
    {
      "cell_type": "markdown",
      "metadata": {
        "id": "BQP5p3_SKpKc"
      },
      "source": [
        "## Analysis of the Most Popular Artists and Songs"
      ]
    },
    {
      "cell_type": "code",
      "metadata": {
        "id": "gsA8N2mPKuhh",
        "colab": {
          "base_uri": "https://localhost:8080/"
        },
        "outputId": "fb0b176c-14e5-4f5b-bdfa-e57bac9ca4e8"
      },
      "source": [
        "# execute this cell to authorize the notebook\n",
        "\n",
        "from google.colab import drive\n",
        "drive.mount(\"./drive\", force_remount=True)"
      ],
      "execution_count": null,
      "outputs": [
        {
          "output_type": "stream",
          "text": [
            "Mounted at ./drive\n"
          ],
          "name": "stdout"
        }
      ]
    },
    {
      "cell_type": "code",
      "metadata": {
        "colab": {
          "base_uri": "https://localhost:8080/"
        },
        "id": "W4BgBCRWLODc",
        "outputId": "47f077ff-636d-4326-fcc4-73f400590743"
      },
      "source": [
        "from os.path import join \n",
        "\n",
        "path_prefix = \"./drive/My Drive\"\n",
        "fname = \"data.csv\"\n",
        "\n",
        "# read and print the whole content of the file\n",
        "with open(join(path_prefix, fname), \"r\") as f:\n",
        "  print(f.read())"
      ],
      "execution_count": null,
      "outputs": [
        {
          "output_type": "stream",
          "text": [
            "IOPub data rate exceeded.\n",
            "The notebook server will temporarily stop sending output\n",
            "to the client in order to avoid crashing it.\n",
            "To change this limit, set the config variable\n",
            "`--NotebookApp.iopub_data_rate_limit`.\n",
            "\n",
            "Current values:\n",
            "NotebookApp.iopub_data_rate_limit=1000000.0 (bytes/sec)\n",
            "NotebookApp.rate_limit_window=3.0 (secs)\n",
            "\n"
          ],
          "name": "stderr"
        }
      ]
    },
    {
      "cell_type": "code",
      "metadata": {
        "colab": {
          "base_uri": "https://localhost:8080/"
        },
        "id": "OctENenKLXAU",
        "outputId": "e0da461e-c46a-45a5-d4df-2afd899eb6c9"
      },
      "source": [
        "!pip install reverse_geocoder\n",
        "!pip install geopy"
      ],
      "execution_count": null,
      "outputs": [
        {
          "output_type": "stream",
          "text": [
            "Requirement already satisfied: reverse_geocoder in /usr/local/lib/python3.7/dist-packages (1.5.1)\n",
            "Requirement already satisfied: numpy>=1.11.0 in /usr/local/lib/python3.7/dist-packages (from reverse_geocoder) (1.19.5)\n",
            "Requirement already satisfied: scipy>=0.17.1 in /usr/local/lib/python3.7/dist-packages (from reverse_geocoder) (1.4.1)\n",
            "Requirement already satisfied: geopy in /usr/local/lib/python3.7/dist-packages (1.17.0)\n",
            "Requirement already satisfied: geographiclib<2,>=1.49 in /usr/local/lib/python3.7/dist-packages (from geopy) (1.50)\n"
          ],
          "name": "stdout"
        }
      ]
    },
    {
      "cell_type": "code",
      "metadata": {
        "colab": {
          "base_uri": "https://localhost:8080/"
        },
        "id": "jhwGq7GCLbL4",
        "outputId": "f5cb32a2-0e8e-4702-df04-0a98269a1edd"
      },
      "source": [
        "from google.colab import drive\n",
        "drive.mount('./drive', force_remount=True)\n",
        "\n",
        "path_prefix = './drive/My Drive'"
      ],
      "execution_count": null,
      "outputs": [
        {
          "output_type": "stream",
          "text": [
            "Mounted at ./drive\n"
          ],
          "name": "stdout"
        }
      ]
    },
    {
      "cell_type": "code",
      "metadata": {
        "id": "7rqFGdocLiLG"
      },
      "source": [
        "# Importing needed libraries\n",
        "\n",
        "import pandas as pd\n",
        "import numpy as np\n",
        "import matplotlib.pyplot as plt\n",
        "import reverse_geocoder as rg\n",
        "from geopy.distance import geodesic\n",
        "from scipy import stats\n",
        "import seaborn as sns\n",
        "from os.path import join\n",
        "from os import listdir\n",
        "from matplotlib.pyplot import figure\n",
        "\n",
        "import warnings\n",
        "warnings.filterwarnings(\"ignore\")\n",
        "\n",
        "%matplotlib inline"
      ],
      "execution_count": null,
      "outputs": []
    },
    {
      "cell_type": "code",
      "metadata": {
        "id": "JdmwjOmiLpZj"
      },
      "source": [
        "# we use the read_csv function\n",
        "# to read the dataset into a dataframe\n",
        "\n",
        "filename = \"data.csv\"\n",
        "df = pd.read_csv(join(path_prefix, filename))"
      ],
      "execution_count": null,
      "outputs": []
    },
    {
      "cell_type": "code",
      "metadata": {
        "id": "sUMpEq3aLsb0"
      },
      "source": [
        "# sorting datas by descending popularity\n",
        "\n",
        "df.sort_values(by=['popularity'], inplace=True, ascending=False) "
      ],
      "execution_count": null,
      "outputs": []
    },
    {
      "cell_type": "code",
      "metadata": {
        "colab": {
          "base_uri": "https://localhost:8080/",
          "height": 1000
        },
        "id": "VAie-6B6LvqM",
        "outputId": "dd61fc31-d088-4e0d-ce3d-10c53cc23031"
      },
      "source": [
        "# cleaning up data and picking artists more than 90 popularity\n",
        "\n",
        "df[['artists','name','popularity']][(df['popularity'] >= 90) & (df['popularity'] <= 100)] "
      ],
      "execution_count": null,
      "outputs": [
        {
          "output_type": "execute_result",
          "data": {
            "text/html": [
              "<div>\n",
              "<style scoped>\n",
              "    .dataframe tbody tr th:only-of-type {\n",
              "        vertical-align: middle;\n",
              "    }\n",
              "\n",
              "    .dataframe tbody tr th {\n",
              "        vertical-align: top;\n",
              "    }\n",
              "\n",
              "    .dataframe thead th {\n",
              "        text-align: right;\n",
              "    }\n",
              "</style>\n",
              "<table border=\"1\" class=\"dataframe\">\n",
              "  <thead>\n",
              "    <tr style=\"text-align: right;\">\n",
              "      <th></th>\n",
              "      <th>artists</th>\n",
              "      <th>name</th>\n",
              "      <th>popularity</th>\n",
              "    </tr>\n",
              "  </thead>\n",
              "  <tbody>\n",
              "    <tr>\n",
              "      <th>20062</th>\n",
              "      <td>['Olivia Rodrigo']</td>\n",
              "      <td>drivers license</td>\n",
              "      <td>100</td>\n",
              "    </tr>\n",
              "    <tr>\n",
              "      <th>19862</th>\n",
              "      <td>['24kGoldn', 'iann dior']</td>\n",
              "      <td>Mood (feat. iann dior)</td>\n",
              "      <td>96</td>\n",
              "    </tr>\n",
              "    <tr>\n",
              "      <th>19866</th>\n",
              "      <td>['Ariana Grande']</td>\n",
              "      <td>positions</td>\n",
              "      <td>96</td>\n",
              "    </tr>\n",
              "    <tr>\n",
              "      <th>19886</th>\n",
              "      <td>['Bad Bunny', 'Jhay Cortez']</td>\n",
              "      <td>DÁKITI</td>\n",
              "      <td>95</td>\n",
              "    </tr>\n",
              "    <tr>\n",
              "      <th>19976</th>\n",
              "      <td>['KAROL G']</td>\n",
              "      <td>BICHOTA</td>\n",
              "      <td>95</td>\n",
              "    </tr>\n",
              "    <tr>\n",
              "      <th>19868</th>\n",
              "      <td>['Ariana Grande']</td>\n",
              "      <td>34+35</td>\n",
              "      <td>94</td>\n",
              "    </tr>\n",
              "    <tr>\n",
              "      <th>19870</th>\n",
              "      <td>['CJ']</td>\n",
              "      <td>Whoopty</td>\n",
              "      <td>94</td>\n",
              "    </tr>\n",
              "    <tr>\n",
              "      <th>19872</th>\n",
              "      <td>['The Kid LAROI']</td>\n",
              "      <td>WITHOUT YOU</td>\n",
              "      <td>94</td>\n",
              "    </tr>\n",
              "    <tr>\n",
              "      <th>19876</th>\n",
              "      <td>['Billie Eilish']</td>\n",
              "      <td>Therefore I Am</td>\n",
              "      <td>94</td>\n",
              "    </tr>\n",
              "    <tr>\n",
              "      <th>19928</th>\n",
              "      <td>['Bad Bunny', 'ROSALÍA']</td>\n",
              "      <td>LA NOCHE DE ANOCHE</td>\n",
              "      <td>94</td>\n",
              "    </tr>\n",
              "    <tr>\n",
              "      <th>19900</th>\n",
              "      <td>['Tate McRae']</td>\n",
              "      <td>you broke me first</td>\n",
              "      <td>93</td>\n",
              "    </tr>\n",
              "    <tr>\n",
              "      <th>19878</th>\n",
              "      <td>['Pop Smoke']</td>\n",
              "      <td>What You Know Bout Love</td>\n",
              "      <td>93</td>\n",
              "    </tr>\n",
              "    <tr>\n",
              "      <th>39252</th>\n",
              "      <td>['Tiësto']</td>\n",
              "      <td>The Business</td>\n",
              "      <td>92</td>\n",
              "    </tr>\n",
              "    <tr>\n",
              "      <th>76406</th>\n",
              "      <td>['Boza']</td>\n",
              "      <td>Hecha Pa' Mi</td>\n",
              "      <td>92</td>\n",
              "    </tr>\n",
              "    <tr>\n",
              "      <th>19884</th>\n",
              "      <td>['Lil Nas X']</td>\n",
              "      <td>HOLIDAY</td>\n",
              "      <td>92</td>\n",
              "    </tr>\n",
              "    <tr>\n",
              "      <th>19880</th>\n",
              "      <td>['Cardi B', 'Megan Thee Stallion']</td>\n",
              "      <td>WAP (feat. Megan Thee Stallion)</td>\n",
              "      <td>92</td>\n",
              "    </tr>\n",
              "    <tr>\n",
              "      <th>19908</th>\n",
              "      <td>['Justin Bieber', 'benny blanco']</td>\n",
              "      <td>Lonely (with benny blanco)</td>\n",
              "      <td>92</td>\n",
              "    </tr>\n",
              "    <tr>\n",
              "      <th>20068</th>\n",
              "      <td>['Justin Bieber']</td>\n",
              "      <td>Anyone</td>\n",
              "      <td>92</td>\n",
              "    </tr>\n",
              "    <tr>\n",
              "      <th>19924</th>\n",
              "      <td>['Shawn Mendes', 'Justin Bieber']</td>\n",
              "      <td>Monster (Shawn Mendes &amp; Justin Bieber)</td>\n",
              "      <td>91</td>\n",
              "    </tr>\n",
              "    <tr>\n",
              "      <th>19864</th>\n",
              "      <td>['SZA']</td>\n",
              "      <td>Good Days</td>\n",
              "      <td>91</td>\n",
              "    </tr>\n",
              "    <tr>\n",
              "      <th>39424</th>\n",
              "      <td>['Manuel Turizo', 'Rauw Alejandro', 'Myke Towe...</td>\n",
              "      <td>La Nota</td>\n",
              "      <td>91</td>\n",
              "    </tr>\n",
              "    <tr>\n",
              "      <th>19470</th>\n",
              "      <td>['Sia']</td>\n",
              "      <td>Snowman</td>\n",
              "      <td>91</td>\n",
              "    </tr>\n",
              "    <tr>\n",
              "      <th>19874</th>\n",
              "      <td>['Pop Smoke', 'Lil Baby', 'DaBaby']</td>\n",
              "      <td>For The Night (feat. Lil Baby &amp; DaBaby)</td>\n",
              "      <td>91</td>\n",
              "    </tr>\n",
              "    <tr>\n",
              "      <th>19896</th>\n",
              "      <td>['Conan Gray']</td>\n",
              "      <td>Heather</td>\n",
              "      <td>91</td>\n",
              "    </tr>\n",
              "    <tr>\n",
              "      <th>19892</th>\n",
              "      <td>['DaBaby', 'Roddy Ricch']</td>\n",
              "      <td>ROCKSTAR (feat. Roddy Ricch)</td>\n",
              "      <td>91</td>\n",
              "    </tr>\n",
              "    <tr>\n",
              "      <th>19670</th>\n",
              "      <td>['Harry Styles']</td>\n",
              "      <td>Watermelon Sugar</td>\n",
              "      <td>91</td>\n",
              "    </tr>\n",
              "    <tr>\n",
              "      <th>19984</th>\n",
              "      <td>['BTS']</td>\n",
              "      <td>Dynamite</td>\n",
              "      <td>91</td>\n",
              "    </tr>\n",
              "    <tr>\n",
              "      <th>19974</th>\n",
              "      <td>['BTS']</td>\n",
              "      <td>Life Goes On</td>\n",
              "      <td>91</td>\n",
              "    </tr>\n",
              "    <tr>\n",
              "      <th>39236</th>\n",
              "      <td>['Joel Corry', 'MNEK']</td>\n",
              "      <td>Head &amp; Heart (feat. MNEK)</td>\n",
              "      <td>91</td>\n",
              "    </tr>\n",
              "    <tr>\n",
              "      <th>76488</th>\n",
              "      <td>['Myke Towers', 'Juhn']</td>\n",
              "      <td>Bandido</td>\n",
              "      <td>91</td>\n",
              "    </tr>\n",
              "    <tr>\n",
              "      <th>20018</th>\n",
              "      <td>['Bad Bunny', 'Jhay Cortez']</td>\n",
              "      <td>DÁKITI</td>\n",
              "      <td>91</td>\n",
              "    </tr>\n",
              "    <tr>\n",
              "      <th>19996</th>\n",
              "      <td>['Bad Bunny']</td>\n",
              "      <td>TE MUDASTE</td>\n",
              "      <td>90</td>\n",
              "    </tr>\n",
              "    <tr>\n",
              "      <th>19988</th>\n",
              "      <td>['Ed Sheeran']</td>\n",
              "      <td>Afterglow</td>\n",
              "      <td>90</td>\n",
              "    </tr>\n",
              "    <tr>\n",
              "      <th>19934</th>\n",
              "      <td>['Justin Bieber', 'Chance the Rapper']</td>\n",
              "      <td>Holy (feat. Chance The Rapper)</td>\n",
              "      <td>90</td>\n",
              "    </tr>\n",
              "    <tr>\n",
              "      <th>39368</th>\n",
              "      <td>['Sech', 'Daddy Yankee', 'J Balvin', 'ROSALÍA'...</td>\n",
              "      <td>Relación - Remix</td>\n",
              "      <td>90</td>\n",
              "    </tr>\n",
              "    <tr>\n",
              "      <th>19894</th>\n",
              "      <td>['Dua Lipa', 'DaBaby']</td>\n",
              "      <td>Levitating (feat. DaBaby)</td>\n",
              "      <td>90</td>\n",
              "    </tr>\n",
              "    <tr>\n",
              "      <th>19902</th>\n",
              "      <td>['Internet Money', 'Gunna', 'Don Toliver', 'NAV']</td>\n",
              "      <td>Lemonade</td>\n",
              "      <td>90</td>\n",
              "    </tr>\n",
              "    <tr>\n",
              "      <th>93700</th>\n",
              "      <td>['Camilo']</td>\n",
              "      <td>Vida de Rico</td>\n",
              "      <td>90</td>\n",
              "    </tr>\n",
              "    <tr>\n",
              "      <th>39230</th>\n",
              "      <td>['HVME']</td>\n",
              "      <td>Goosebumps</td>\n",
              "      <td>90</td>\n",
              "    </tr>\n",
              "    <tr>\n",
              "      <th>20048</th>\n",
              "      <td>['MEDUZA', 'Dermot Kennedy']</td>\n",
              "      <td>Paradise (feat. Dermot Kennedy)</td>\n",
              "      <td>90</td>\n",
              "    </tr>\n",
              "    <tr>\n",
              "      <th>14662</th>\n",
              "      <td>['Mariah Carey']</td>\n",
              "      <td>All I Want for Christmas Is You</td>\n",
              "      <td>90</td>\n",
              "    </tr>\n",
              "    <tr>\n",
              "      <th>76578</th>\n",
              "      <td>['Farruko']</td>\n",
              "      <td>La Tóxica</td>\n",
              "      <td>90</td>\n",
              "    </tr>\n",
              "    <tr>\n",
              "      <th>76546</th>\n",
              "      <td>['Sebastian Yatra', 'Guaynaa']</td>\n",
              "      <td>Chica Ideal</td>\n",
              "      <td>90</td>\n",
              "    </tr>\n",
              "    <tr>\n",
              "      <th>19672</th>\n",
              "      <td>['Lewis Capaldi']</td>\n",
              "      <td>Someone You Loved</td>\n",
              "      <td>90</td>\n",
              "    </tr>\n",
              "  </tbody>\n",
              "</table>\n",
              "</div>"
            ],
            "text/plain": [
              "                                                 artists  ... popularity\n",
              "20062                                 ['Olivia Rodrigo']  ...        100\n",
              "19862                          ['24kGoldn', 'iann dior']  ...         96\n",
              "19866                                  ['Ariana Grande']  ...         96\n",
              "19886                       ['Bad Bunny', 'Jhay Cortez']  ...         95\n",
              "19976                                        ['KAROL G']  ...         95\n",
              "19868                                  ['Ariana Grande']  ...         94\n",
              "19870                                             ['CJ']  ...         94\n",
              "19872                                  ['The Kid LAROI']  ...         94\n",
              "19876                                  ['Billie Eilish']  ...         94\n",
              "19928                           ['Bad Bunny', 'ROSALÍA']  ...         94\n",
              "19900                                     ['Tate McRae']  ...         93\n",
              "19878                                      ['Pop Smoke']  ...         93\n",
              "39252                                         ['Tiësto']  ...         92\n",
              "76406                                           ['Boza']  ...         92\n",
              "19884                                      ['Lil Nas X']  ...         92\n",
              "19880                 ['Cardi B', 'Megan Thee Stallion']  ...         92\n",
              "19908                  ['Justin Bieber', 'benny blanco']  ...         92\n",
              "20068                                  ['Justin Bieber']  ...         92\n",
              "19924                  ['Shawn Mendes', 'Justin Bieber']  ...         91\n",
              "19864                                            ['SZA']  ...         91\n",
              "39424  ['Manuel Turizo', 'Rauw Alejandro', 'Myke Towe...  ...         91\n",
              "19470                                            ['Sia']  ...         91\n",
              "19874                ['Pop Smoke', 'Lil Baby', 'DaBaby']  ...         91\n",
              "19896                                     ['Conan Gray']  ...         91\n",
              "19892                          ['DaBaby', 'Roddy Ricch']  ...         91\n",
              "19670                                   ['Harry Styles']  ...         91\n",
              "19984                                            ['BTS']  ...         91\n",
              "19974                                            ['BTS']  ...         91\n",
              "39236                             ['Joel Corry', 'MNEK']  ...         91\n",
              "76488                            ['Myke Towers', 'Juhn']  ...         91\n",
              "20018                       ['Bad Bunny', 'Jhay Cortez']  ...         91\n",
              "19996                                      ['Bad Bunny']  ...         90\n",
              "19988                                     ['Ed Sheeran']  ...         90\n",
              "19934             ['Justin Bieber', 'Chance the Rapper']  ...         90\n",
              "39368  ['Sech', 'Daddy Yankee', 'J Balvin', 'ROSALÍA'...  ...         90\n",
              "19894                             ['Dua Lipa', 'DaBaby']  ...         90\n",
              "19902  ['Internet Money', 'Gunna', 'Don Toliver', 'NAV']  ...         90\n",
              "93700                                         ['Camilo']  ...         90\n",
              "39230                                           ['HVME']  ...         90\n",
              "20048                       ['MEDUZA', 'Dermot Kennedy']  ...         90\n",
              "14662                                   ['Mariah Carey']  ...         90\n",
              "76578                                        ['Farruko']  ...         90\n",
              "76546                     ['Sebastian Yatra', 'Guaynaa']  ...         90\n",
              "19672                                  ['Lewis Capaldi']  ...         90\n",
              "\n",
              "[44 rows x 3 columns]"
            ]
          },
          "metadata": {
            "tags": []
          },
          "execution_count": 36
        }
      ]
    },
    {
      "cell_type": "markdown",
      "metadata": {
        "id": "0Pjb5kf1O3Mv"
      },
      "source": [
        "## How Songs of Different Genres Change Over Time"
      ]
    },
    {
      "cell_type": "code",
      "metadata": {
        "id": "E0-pCwotO5LR",
        "colab": {
          "base_uri": "https://localhost:8080/",
          "height": 195
        },
        "outputId": "eec47341-9bb2-4219-dc60-84bc18d35328"
      },
      "source": [
        "# In this cell we get artists and genres data \n",
        "# from data_w_genres.csv \n",
        "\n",
        "data = []\n",
        "for index, row in dfa.iterrows():\n",
        "  data.append(row[['artists', 'genres']])\n",
        "\n",
        "dfAAA = pd.DataFrame(data)\n",
        "dfAAA.head()"
      ],
      "execution_count": null,
      "outputs": [
        {
          "output_type": "execute_result",
          "data": {
            "text/html": [
              "<div>\n",
              "<style scoped>\n",
              "    .dataframe tbody tr th:only-of-type {\n",
              "        vertical-align: middle;\n",
              "    }\n",
              "\n",
              "    .dataframe tbody tr th {\n",
              "        vertical-align: top;\n",
              "    }\n",
              "\n",
              "    .dataframe thead th {\n",
              "        text-align: right;\n",
              "    }\n",
              "</style>\n",
              "<table border=\"1\" class=\"dataframe\">\n",
              "  <thead>\n",
              "    <tr style=\"text-align: right;\">\n",
              "      <th></th>\n",
              "      <th>artists</th>\n",
              "      <th>genres</th>\n",
              "    </tr>\n",
              "  </thead>\n",
              "  <tbody>\n",
              "    <tr>\n",
              "      <th>0</th>\n",
              "      <td>\"Cats\" 1981 Original London Cast</td>\n",
              "      <td>['show tunes']</td>\n",
              "    </tr>\n",
              "    <tr>\n",
              "      <th>1</th>\n",
              "      <td>\"Cats\" 1983 Broadway Cast</td>\n",
              "      <td>[]</td>\n",
              "    </tr>\n",
              "    <tr>\n",
              "      <th>2</th>\n",
              "      <td>\"Fiddler On The Roof” Motion Picture Chorus</td>\n",
              "      <td>[]</td>\n",
              "    </tr>\n",
              "    <tr>\n",
              "      <th>3</th>\n",
              "      <td>\"Fiddler On The Roof” Motion Picture Orchestra</td>\n",
              "      <td>[]</td>\n",
              "    </tr>\n",
              "    <tr>\n",
              "      <th>4</th>\n",
              "      <td>\"Joseph And The Amazing Technicolor Dreamcoat\"...</td>\n",
              "      <td>[]</td>\n",
              "    </tr>\n",
              "  </tbody>\n",
              "</table>\n",
              "</div>"
            ],
            "text/plain": [
              "                                             artists          genres\n",
              "0                   \"Cats\" 1981 Original London Cast  ['show tunes']\n",
              "1                          \"Cats\" 1983 Broadway Cast              []\n",
              "2        \"Fiddler On The Roof” Motion Picture Chorus              []\n",
              "3     \"Fiddler On The Roof” Motion Picture Orchestra              []\n",
              "4  \"Joseph And The Amazing Technicolor Dreamcoat\"...              []"
            ]
          },
          "metadata": {
            "tags": []
          },
          "execution_count": 37
        }
      ]
    },
    {
      "cell_type": "code",
      "metadata": {
        "colab": {
          "base_uri": "https://localhost:8080/",
          "height": 350
        },
        "id": "G63j10vxSaG7",
        "outputId": "7f333c50-13f2-4c0f-c9ec-77850765cc9a"
      },
      "source": [
        "# by default returns the top 5 rows of the dataframe\n",
        "# presenting basic information \n",
        "\n",
        "df.head()"
      ],
      "execution_count": null,
      "outputs": [
        {
          "output_type": "execute_result",
          "data": {
            "text/html": [
              "<div>\n",
              "<style scoped>\n",
              "    .dataframe tbody tr th:only-of-type {\n",
              "        vertical-align: middle;\n",
              "    }\n",
              "\n",
              "    .dataframe tbody tr th {\n",
              "        vertical-align: top;\n",
              "    }\n",
              "\n",
              "    .dataframe thead th {\n",
              "        text-align: right;\n",
              "    }\n",
              "</style>\n",
              "<table border=\"1\" class=\"dataframe\">\n",
              "  <thead>\n",
              "    <tr style=\"text-align: right;\">\n",
              "      <th></th>\n",
              "      <th>acousticness</th>\n",
              "      <th>artists</th>\n",
              "      <th>danceability</th>\n",
              "      <th>duration_ms</th>\n",
              "      <th>energy</th>\n",
              "      <th>explicit</th>\n",
              "      <th>id</th>\n",
              "      <th>instrumentalness</th>\n",
              "      <th>key</th>\n",
              "      <th>liveness</th>\n",
              "      <th>loudness</th>\n",
              "      <th>mode</th>\n",
              "      <th>name</th>\n",
              "      <th>popularity</th>\n",
              "      <th>release_date</th>\n",
              "      <th>speechiness</th>\n",
              "      <th>tempo</th>\n",
              "      <th>valence</th>\n",
              "      <th>year</th>\n",
              "    </tr>\n",
              "  </thead>\n",
              "  <tbody>\n",
              "    <tr>\n",
              "      <th>20062</th>\n",
              "      <td>0.721</td>\n",
              "      <td>['Olivia Rodrigo']</td>\n",
              "      <td>0.585</td>\n",
              "      <td>242014</td>\n",
              "      <td>0.436</td>\n",
              "      <td>1</td>\n",
              "      <td>7lPN2DXiMsVn7XUKtOW1CS</td>\n",
              "      <td>0.000013</td>\n",
              "      <td>10</td>\n",
              "      <td>0.1050</td>\n",
              "      <td>-8.761</td>\n",
              "      <td>1</td>\n",
              "      <td>drivers license</td>\n",
              "      <td>100</td>\n",
              "      <td>2021-01-08</td>\n",
              "      <td>0.0601</td>\n",
              "      <td>143.874</td>\n",
              "      <td>0.132</td>\n",
              "      <td>2021</td>\n",
              "    </tr>\n",
              "    <tr>\n",
              "      <th>19862</th>\n",
              "      <td>0.221</td>\n",
              "      <td>['24kGoldn', 'iann dior']</td>\n",
              "      <td>0.700</td>\n",
              "      <td>140526</td>\n",
              "      <td>0.722</td>\n",
              "      <td>1</td>\n",
              "      <td>3tjFYV6RSFtuktYl3ZtYcq</td>\n",
              "      <td>0.000000</td>\n",
              "      <td>7</td>\n",
              "      <td>0.2720</td>\n",
              "      <td>-3.558</td>\n",
              "      <td>0</td>\n",
              "      <td>Mood (feat. iann dior)</td>\n",
              "      <td>96</td>\n",
              "      <td>2020-07-24</td>\n",
              "      <td>0.0369</td>\n",
              "      <td>90.989</td>\n",
              "      <td>0.756</td>\n",
              "      <td>2020</td>\n",
              "    </tr>\n",
              "    <tr>\n",
              "      <th>19866</th>\n",
              "      <td>0.468</td>\n",
              "      <td>['Ariana Grande']</td>\n",
              "      <td>0.737</td>\n",
              "      <td>172325</td>\n",
              "      <td>0.802</td>\n",
              "      <td>1</td>\n",
              "      <td>35mvY5S1H3J2QZyna3TFe0</td>\n",
              "      <td>0.000000</td>\n",
              "      <td>0</td>\n",
              "      <td>0.0931</td>\n",
              "      <td>-4.771</td>\n",
              "      <td>1</td>\n",
              "      <td>positions</td>\n",
              "      <td>96</td>\n",
              "      <td>2020-10-30</td>\n",
              "      <td>0.0878</td>\n",
              "      <td>144.015</td>\n",
              "      <td>0.682</td>\n",
              "      <td>2020</td>\n",
              "    </tr>\n",
              "    <tr>\n",
              "      <th>19886</th>\n",
              "      <td>0.401</td>\n",
              "      <td>['Bad Bunny', 'Jhay Cortez']</td>\n",
              "      <td>0.731</td>\n",
              "      <td>205090</td>\n",
              "      <td>0.573</td>\n",
              "      <td>1</td>\n",
              "      <td>47EiUVwUp4C9fGccaPuUCS</td>\n",
              "      <td>0.000052</td>\n",
              "      <td>4</td>\n",
              "      <td>0.1130</td>\n",
              "      <td>-10.059</td>\n",
              "      <td>0</td>\n",
              "      <td>DÁKITI</td>\n",
              "      <td>95</td>\n",
              "      <td>2020-10-30</td>\n",
              "      <td>0.0544</td>\n",
              "      <td>109.928</td>\n",
              "      <td>0.145</td>\n",
              "      <td>2020</td>\n",
              "    </tr>\n",
              "    <tr>\n",
              "      <th>19976</th>\n",
              "      <td>0.212</td>\n",
              "      <td>['KAROL G']</td>\n",
              "      <td>0.863</td>\n",
              "      <td>178947</td>\n",
              "      <td>0.666</td>\n",
              "      <td>1</td>\n",
              "      <td>7vrJn5hDSXRmdXoR30KgF1</td>\n",
              "      <td>0.000493</td>\n",
              "      <td>1</td>\n",
              "      <td>0.1030</td>\n",
              "      <td>-4.158</td>\n",
              "      <td>0</td>\n",
              "      <td>BICHOTA</td>\n",
              "      <td>95</td>\n",
              "      <td>2020-10-23</td>\n",
              "      <td>0.1520</td>\n",
              "      <td>163.908</td>\n",
              "      <td>0.838</td>\n",
              "      <td>2020</td>\n",
              "    </tr>\n",
              "  </tbody>\n",
              "</table>\n",
              "</div>"
            ],
            "text/plain": [
              "       acousticness                       artists  ...  valence  year\n",
              "20062         0.721            ['Olivia Rodrigo']  ...    0.132  2021\n",
              "19862         0.221     ['24kGoldn', 'iann dior']  ...    0.756  2020\n",
              "19866         0.468             ['Ariana Grande']  ...    0.682  2020\n",
              "19886         0.401  ['Bad Bunny', 'Jhay Cortez']  ...    0.145  2020\n",
              "19976         0.212                   ['KAROL G']  ...    0.838  2020\n",
              "\n",
              "[5 rows x 19 columns]"
            ]
          },
          "metadata": {
            "tags": []
          },
          "execution_count": 38
        }
      ]
    },
    {
      "cell_type": "code",
      "metadata": {
        "id": "H0Q4p0_6L1oh",
        "colab": {
          "base_uri": "https://localhost:8080/",
          "height": 195
        },
        "outputId": "7c3ab53e-417b-4ea7-c2a1-09f4b15aceb9"
      },
      "source": [
        "# To merge data.csv and data_w_genres.csv\n",
        "# files we need to make their artists name same\n",
        "\n",
        "df['genres'] = \"\"\n",
        "data = []\n",
        "\n",
        "# Iteration for getting same artists \n",
        "for i, row in dfAAA.iterrows():\n",
        "  row[\"artists\"] = \"['\" + row[\"artists\"] + \"']\"\n",
        "  data.append(row)\n",
        "\n",
        "dfAAB = pd.DataFrame(data)\n",
        "dfAAB.head()"
      ],
      "execution_count": null,
      "outputs": [
        {
          "output_type": "execute_result",
          "data": {
            "text/html": [
              "<div>\n",
              "<style scoped>\n",
              "    .dataframe tbody tr th:only-of-type {\n",
              "        vertical-align: middle;\n",
              "    }\n",
              "\n",
              "    .dataframe tbody tr th {\n",
              "        vertical-align: top;\n",
              "    }\n",
              "\n",
              "    .dataframe thead th {\n",
              "        text-align: right;\n",
              "    }\n",
              "</style>\n",
              "<table border=\"1\" class=\"dataframe\">\n",
              "  <thead>\n",
              "    <tr style=\"text-align: right;\">\n",
              "      <th></th>\n",
              "      <th>artists</th>\n",
              "      <th>genres</th>\n",
              "    </tr>\n",
              "  </thead>\n",
              "  <tbody>\n",
              "    <tr>\n",
              "      <th>0</th>\n",
              "      <td>['\"Cats\" 1981 Original London Cast']</td>\n",
              "      <td>['show tunes']</td>\n",
              "    </tr>\n",
              "    <tr>\n",
              "      <th>1</th>\n",
              "      <td>['\"Cats\" 1983 Broadway Cast']</td>\n",
              "      <td>[]</td>\n",
              "    </tr>\n",
              "    <tr>\n",
              "      <th>2</th>\n",
              "      <td>['\"Fiddler On The Roof” Motion Picture Chorus']</td>\n",
              "      <td>[]</td>\n",
              "    </tr>\n",
              "    <tr>\n",
              "      <th>3</th>\n",
              "      <td>['\"Fiddler On The Roof” Motion Picture Orchest...</td>\n",
              "      <td>[]</td>\n",
              "    </tr>\n",
              "    <tr>\n",
              "      <th>4</th>\n",
              "      <td>['\"Joseph And The Amazing Technicolor Dreamcoa...</td>\n",
              "      <td>[]</td>\n",
              "    </tr>\n",
              "  </tbody>\n",
              "</table>\n",
              "</div>"
            ],
            "text/plain": [
              "                                             artists          genres\n",
              "0               ['\"Cats\" 1981 Original London Cast']  ['show tunes']\n",
              "1                      ['\"Cats\" 1983 Broadway Cast']              []\n",
              "2    ['\"Fiddler On The Roof” Motion Picture Chorus']              []\n",
              "3  ['\"Fiddler On The Roof” Motion Picture Orchest...              []\n",
              "4  ['\"Joseph And The Amazing Technicolor Dreamcoa...              []"
            ]
          },
          "metadata": {
            "tags": []
          },
          "execution_count": 39
        }
      ]
    },
    {
      "cell_type": "code",
      "metadata": {
        "id": "lpnFM7DVWHVW"
      },
      "source": [
        "# Merging data.csv file and different file \n",
        "# that we created for this process which is\n",
        "# (dfAAB)\n",
        "\n",
        "output1 = pd.merge(df, dfAAB, on='artists', how='inner')"
      ],
      "execution_count": null,
      "outputs": []
    },
    {
      "cell_type": "code",
      "metadata": {
        "id": "kNjtilpqaY3Y"
      },
      "source": [
        "# In this cell we get genres (techno and r&b) data \n",
        "# from output1 that we created \n",
        "\n",
        "dataT = []\n",
        "dataRB = []\n",
        "for index, row in output1.iterrows():\n",
        "  if row[\"genres_y\"].count(\"techno\") > 0:\n",
        "    dataT.append(row)\n",
        "\n",
        "  if row[\"genres_y\"].count(\"r&b\") > 0:\n",
        "    dataRB.append(row)\n",
        "\n",
        "dfT = pd.DataFrame(dataT)\n",
        "dfRB = pd.DataFrame(dataRB)"
      ],
      "execution_count": null,
      "outputs": []
    },
    {
      "cell_type": "code",
      "metadata": {
        "id": "neNVeiMHePLX"
      },
      "source": [
        "# getting techno's specific data (time interval (1990 to 2000))\n",
        "\n",
        "dfT90 = dfT\n",
        "dfT90 = dfT90[(dfT90['year'] >= 1990) & (dfT90['year'] <= 2000)]"
      ],
      "execution_count": null,
      "outputs": []
    },
    {
      "cell_type": "code",
      "metadata": {
        "id": "YSZz6nsUfVvy"
      },
      "source": [
        "# getting techno's specific data (time interval (2010 to 2021))\n",
        "\n",
        "dfT10 = dfT\n",
        "dfT10 = dfT10[(dfT10['year'] >= 2010) & (dfT10['year'] <= 2021)]"
      ],
      "execution_count": null,
      "outputs": []
    },
    {
      "cell_type": "code",
      "metadata": {
        "id": "hM5InERIgRiL"
      },
      "source": [
        "# In this cell, we get mean values of danceability \n",
        "# and tempo of genres (techno and r&b) \n",
        "\n",
        "techno_tempo_mean_90 = dfT90[\"tempo\"].mean()\n",
        "techno_tempo_mean_10 = dfT10[\"tempo\"].mean()\n",
        "\n",
        "techno_dance_mean_90 = dfT90[\"danceability\"].mean()\n",
        "techno_dance_mean_10 = dfT10[\"danceability\"].mean()"
      ],
      "execution_count": null,
      "outputs": []
    },
    {
      "cell_type": "code",
      "metadata": {
        "id": "GZ0HOkFuhmWb"
      },
      "source": [
        "# In this cell, we get mean values of instrumentalness \n",
        "# and acousticness of genres (techno and r&b) with given interval time\n",
        "\n",
        "dfRB40 = dfRB\n",
        "dfRB00 = dfRB\n",
        "\n",
        "dfRB40 = dfRB40[(dfRB40['year'] >= 1940) & (dfRB['year'] <= 1970)]\n",
        "dfRB00 = dfRB00[(dfRB00['year'] >= 2000) & (dfRB['year'] <= 2021)]\n",
        "\n",
        "rb_inst_mean_40 = dfRB40[\"instrumentalness\"].mean()\n",
        "rb_inst_mean_00 = dfRB00[\"instrumentalness\"].mean()\n",
        "\n",
        "rb_acous_mean_40 = dfRB40[\"acousticness\"].mean()\n",
        "rb_acous_mean_00 = dfRB00[\"acousticness\"].mean()"
      ],
      "execution_count": null,
      "outputs": []
    },
    {
      "cell_type": "code",
      "metadata": {
        "colab": {
          "base_uri": "https://localhost:8080/",
          "height": 716
        },
        "id": "S228dpvYgrQn",
        "outputId": "1647179e-82c6-403d-a457-550a4cfa4b8a"
      },
      "source": [
        "fig, ax = plt.subplots(figsize = (12, 12), nrows = 1, ncols = 2)\n",
        "\n",
        "# Making chart's axes x and y\n",
        "plt_x = [\"1990-2000\", \"2010-2020\"]\n",
        "plt_y_mean = [techno_tempo_mean_90, techno_tempo_mean_10]\n",
        "plt_y_med = [techno_dance_mean_90, techno_dance_mean_10]\n",
        "\n",
        "# Creating bar charts\n",
        "ax[0].bar(plt_x, plt_y_mean)\n",
        "ax[1].bar(plt_x, plt_y_med)\n",
        "\n",
        "# Making titles for not mixing mean values\n",
        "ax[0].set_title(\"Techno Tempo Mean -> 1990s vs 2010s\")\n",
        "ax[1].set_title(\"Techno Danceability Mean -> 1990s vs 2010s\")\n",
        "\n",
        "plt.show()"
      ],
      "execution_count": null,
      "outputs": [
        {
          "output_type": "display_data",
          "data": {
            "image/png": "[encoded data removed]",
            "text/plain": [
              "<Figure size 864x864 with 2 Axes>"
            ]
          },
          "metadata": {
            "tags": [],
            "needs_background": "light"
          }
        }
      ]
    },
    {
      "cell_type": "markdown",
      "metadata": {
        "id": "4rr4hkY2LRvR"
      },
      "source": [
        "\n",
        "\n",
        "```\n",
        "In first bar chart, we compare 1990-2000 and 2010-2020 techno's tempo mean. We can analyze that in 20s, techno producers increase tempo in their song. \n",
        "\n",
        "In second bar chart, just like tempo, danceability increases when time passes. \n",
        "\n",
        "We can interpret that in 00s, there is an increment in tempo and danceability in techno songs.\n",
        "```\n",
        "\n"
      ]
    },
    {
      "cell_type": "code",
      "metadata": {
        "colab": {
          "base_uri": "https://localhost:8080/",
          "height": 716
        },
        "id": "i_aYQJqmhkEI",
        "outputId": "1f68e5c2-c6a3-47b2-8da6-357f0aed173e"
      },
      "source": [
        "fig, ax = plt.subplots(figsize = (12, 12), nrows = 1, ncols = 2)\n",
        "\n",
        "# Making chart's axes x and y\n",
        "plt_x = [\"1940-1970\", \"2000-2021\"]\n",
        "plt_y_mean = [rb_inst_mean_40, rb_inst_mean_00]\n",
        "plt_y_med = [rb_acous_mean_40, rb_acous_mean_00]\n",
        "\n",
        "# Creating bar charts\n",
        "ax[0].bar(plt_x, plt_y_mean)\n",
        "ax[1].bar(plt_x, plt_y_med)\n",
        "\n",
        "# Making titles for not mixing mean values\n",
        "ax[0].set_title(\"R&B Instrumentalness Mean -> 1940-70 vs 2000-21\")\n",
        "ax[1].set_title(\"R&B Acousticness Mean -> 1940-70 vs 2000-21\")\n",
        "\n",
        "plt.show()"
      ],
      "execution_count": null,
      "outputs": [
        {
          "output_type": "display_data",
          "data": {
            "image/png": "[encoded data removed]",
            "text/plain": [
              "<Figure size 864x864 with 2 Axes>"
            ]
          },
          "metadata": {
            "tags": [],
            "needs_background": "light"
          }
        }
      ]
    },
    {
      "cell_type": "markdown",
      "metadata": {
        "id": "hF3yoJ1AMMM_"
      },
      "source": [
        "\n",
        "\n",
        "```\n",
        "We want to see more old datas and nowadays data to see differences instrumentalness and acousticness in r&b songs. Hence, we looked at 1940-1970 and 2000-2021 datas. \n",
        "\n",
        "Both of the charts shows that instrumentalness and acousticness decreased with time. But this decrement is big according to other bar charts that we analyze. \n",
        "\n",
        "This might be because of instruments used in r&b songs. Nowadays, producers uses different ways to produce a song. This might affect their acousticness and instrumentalness.\n",
        "```\n",
        "\n"
      ]
    }
  ]
}